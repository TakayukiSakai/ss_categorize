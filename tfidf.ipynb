{
 "cells": [
  {
   "cell_type": "markdown",
   "metadata": {},
   "source": [
    "# SS記事の自動カテゴリ分類\n",
    "\n",
    "運営しているSSまとめサイトで、それぞれのSSのカテゴリ付けを自動化できないか検証してみた。\n",
    "\n",
    "使用したデータは、DBにクエリを投げてダンプしたもの。\n",
    "\n",
    "このノートブックでは、それぞれのカテゴリにおいてTF-IDF値が大きい単語を特徴量として分類する。"
   ]
  },
  {
   "cell_type": "markdown",
   "metadata": {},
   "source": [
    "### 環境\n",
    "\n",
    "- Ubuntu 14.04\n",
    "- python3.5"
   ]
  },
  {
   "cell_type": "code",
   "execution_count": 1,
   "metadata": {
    "collapsed": false
   },
   "outputs": [],
   "source": [
    "%matplotlib inline\n",
    "import numpy as np\n",
    "import pandas as pd\n",
    "from bs4 import BeautifulSoup\n",
    "from joblib import Parallel, delayed\n",
    "import multiprocessing\n",
    "from collections import Counter\n",
    "import re\n",
    "\n",
    "from sklearn import cross_validation\n",
    "from sklearn.ensemble import RandomForestClassifier\n",
    "from sklearn.linear_model import SGDClassifier"
   ]
  },
  {
   "cell_type": "code",
   "execution_count": 2,
   "metadata": {
    "collapsed": true
   },
   "outputs": [],
   "source": [
    "# pandas.DataFrame.apply関数の並列版\n",
    "def applyParallel(dfGrouped, func, asDataFrame=False):\n",
    "    retLst = Parallel(n_jobs=multiprocessing.cpu_count())(delayed(func)(field) for field in dfGrouped)\n",
    "    if asDataFrame:\n",
    "        return pd.DataFrame(retLst)\n",
    "    else:\n",
    "        return pd.Series(retLst)"
   ]
  },
  {
   "cell_type": "markdown",
   "metadata": {},
   "source": [
    "## データ理解"
   ]
  },
  {
   "cell_type": "markdown",
   "metadata": {},
   "source": [
    "データの読み込み"
   ]
  },
  {
   "cell_type": "code",
   "execution_count": 3,
   "metadata": {
    "collapsed": false,
    "scrolled": true
   },
   "outputs": [
    {
     "name": "stderr",
     "output_type": "stream",
     "text": [
      "/usr/local/lib/python3.5/site-packages/ipykernel/__main__.py:2: ParserWarning: Falling back to the 'python' engine because the 'c' engine does not support regex separators (separators > 1 char and different from '\\s+' are interpreted as regex); you can avoid this warning by specifying engine='python'.\n",
      "  from ipykernel import kernelapp as app\n"
     ]
    }
   ],
   "source": [
    "# セパレータがカンマだとうまく読み込めなかったので、独自セパレータを使用\n",
    "df = pd.read_csv('./articles.csv', sep='PNDFAKFD', encoding='utf-8')"
   ]
  },
  {
   "cell_type": "code",
   "execution_count": 4,
   "metadata": {
    "collapsed": false,
    "scrolled": true
   },
   "outputs": [
    {
     "data": {
      "text/html": [
       "<div>\n",
       "<table border=\"1\" class=\"dataframe\">\n",
       "  <thead>\n",
       "    <tr style=\"text-align: right;\">\n",
       "      <th></th>\n",
       "      <th>article_id</th>\n",
       "      <th>category_id</th>\n",
       "      <th>category_name</th>\n",
       "      <th>html</th>\n",
       "    </tr>\n",
       "  </thead>\n",
       "  <tbody>\n",
       "    <tr>\n",
       "      <th>0</th>\n",
       "      <td>1</td>\n",
       "      <td>3.0</td>\n",
       "      <td>艦これ</td>\n",
       "      <td>&lt;dd&gt;提督「(俺はこの鎮守府の提督)」 &lt;br&gt;  &lt;br&gt; 提督「(深海棲艦という、謎の...</td>\n",
       "    </tr>\n",
       "    <tr>\n",
       "      <th>1</th>\n",
       "      <td>2</td>\n",
       "      <td>3.0</td>\n",
       "      <td>艦これ</td>\n",
       "      <td>&lt;dd&gt;時雨「今日は雨だね、提督」 &lt;br&gt;  &lt;br&gt; 時雨「そういえば」 &lt;br&gt;  &lt;...</td>\n",
       "    </tr>\n",
       "    <tr>\n",
       "      <th>2</th>\n",
       "      <td>3</td>\n",
       "      <td>NaN</td>\n",
       "      <td>NaN</td>\n",
       "      <td>&lt;dd&gt;女騎士「何！？オークとオーガは似たような種族ではないのか！？」 &lt;br&gt;  &lt;br&gt;...</td>\n",
       "    </tr>\n",
       "    <tr>\n",
       "      <th>3</th>\n",
       "      <td>4</td>\n",
       "      <td>2.0</td>\n",
       "      <td>男女</td>\n",
       "      <td>&lt;dd&gt; 幼「約束は８時でしょ？」&lt;br&gt;&lt;br&gt;男「悪かったよ、ちょっと仕事がな…」&lt;br...</td>\n",
       "    </tr>\n",
       "    <tr>\n",
       "      <th>4</th>\n",
       "      <td>5</td>\n",
       "      <td>11.0</td>\n",
       "      <td>化物語</td>\n",
       "      <td>&lt;dd&gt; &lt;br&gt; ・アイドルマスター・ディアリースターズと物語シリーズのクロスです。 &lt;b...</td>\n",
       "    </tr>\n",
       "    <tr>\n",
       "      <th>5</th>\n",
       "      <td>6</td>\n",
       "      <td>NaN</td>\n",
       "      <td>NaN</td>\n",
       "      <td>&lt;dd&gt; &lt;br&gt; メリオダス・ギル坊「じゃんけんほい！！！」 &lt;br&gt;  &lt;br&gt;  &lt;b...</td>\n",
       "    </tr>\n",
       "    <tr>\n",
       "      <th>6</th>\n",
       "      <td>7</td>\n",
       "      <td>NaN</td>\n",
       "      <td>NaN</td>\n",
       "      <td>&lt;dd&gt; &lt;br&gt;  &lt;br&gt;  &lt;br&gt;  &lt;br&gt;  &lt;br&gt; ｻﾞｧｰｰｰｰｰｰｰ･･...</td>\n",
       "    </tr>\n",
       "    <tr>\n",
       "      <th>7</th>\n",
       "      <td>8</td>\n",
       "      <td>10.0</td>\n",
       "      <td>モバマス</td>\n",
       "      <td>&lt;dd&gt;秋風温泉ガチャをネタ元にしたＳＳです &lt;br&gt; 内容はぶっちゃけ蘭子かな子芳乃とのハ...</td>\n",
       "    </tr>\n",
       "    <tr>\n",
       "      <th>8</th>\n",
       "      <td>9</td>\n",
       "      <td>10.0</td>\n",
       "      <td>モバマス</td>\n",
       "      <td>&lt;dd&gt;冬ということは忘れてください &lt;br&gt;  &lt;br&gt;  &lt;br&gt;  &lt;br&gt; 「「「た...</td>\n",
       "    </tr>\n",
       "    <tr>\n",
       "      <th>9</th>\n",
       "      <td>10</td>\n",
       "      <td>NaN</td>\n",
       "      <td>NaN</td>\n",
       "      <td>&lt;dd class=\"net\"&gt; 俺「よろしく！うわぁー、ワクワクするなぁ！」 &lt;br&gt; &lt;...</td>\n",
       "    </tr>\n",
       "  </tbody>\n",
       "</table>\n",
       "</div>"
      ],
      "text/plain": [
       "   article_id  category_id category_name  \\\n",
       "0           1          3.0           艦これ   \n",
       "1           2          3.0           艦これ   \n",
       "2           3          NaN           NaN   \n",
       "3           4          2.0            男女   \n",
       "4           5         11.0           化物語   \n",
       "5           6          NaN           NaN   \n",
       "6           7          NaN           NaN   \n",
       "7           8         10.0          モバマス   \n",
       "8           9         10.0          モバマス   \n",
       "9          10          NaN           NaN   \n",
       "\n",
       "                                                html  \n",
       "0  <dd>提督「(俺はこの鎮守府の提督)」 <br>  <br> 提督「(深海棲艦という、謎の...  \n",
       "1  <dd>時雨「今日は雨だね、提督」 <br>  <br> 時雨「そういえば」 <br>  <...  \n",
       "2  <dd>女騎士「何！？オークとオーガは似たような種族ではないのか！？」 <br>  <br>...  \n",
       "3  <dd> 幼「約束は８時でしょ？」<br><br>男「悪かったよ、ちょっと仕事がな…」<br...  \n",
       "4  <dd> <br> ・アイドルマスター・ディアリースターズと物語シリーズのクロスです。 <b...  \n",
       "5  <dd> <br> メリオダス・ギル坊「じゃんけんほい！！！」 <br>  <br>  <b...  \n",
       "6  <dd> <br>  <br>  <br>  <br>  <br> ｻﾞｧｰｰｰｰｰｰｰ･･...  \n",
       "7  <dd>秋風温泉ガチャをネタ元にしたＳＳです <br> 内容はぶっちゃけ蘭子かな子芳乃とのハ...  \n",
       "8  <dd>冬ということは忘れてください <br>  <br>  <br>  <br> 「「「た...  \n",
       "9  <dd class=\"net\"> 俺「よろしく！うわぁー、ワクワクするなぁ！」 <br> <...  "
      ]
     },
     "execution_count": 4,
     "metadata": {},
     "output_type": "execute_result"
    }
   ],
   "source": [
    "df[:10]"
   ]
  },
  {
   "cell_type": "markdown",
   "metadata": {},
   "source": [
    "カテゴリIDとカテゴリ名の対応付け"
   ]
  },
  {
   "cell_type": "code",
   "execution_count": 5,
   "metadata": {
    "collapsed": false
   },
   "outputs": [
    {
     "data": {
      "text/html": [
       "<div>\n",
       "<table border=\"1\" class=\"dataframe\">\n",
       "  <thead>\n",
       "    <tr style=\"text-align: right;\">\n",
       "      <th></th>\n",
       "      <th>category_name</th>\n",
       "    </tr>\n",
       "    <tr>\n",
       "      <th>category_id</th>\n",
       "      <th></th>\n",
       "    </tr>\n",
       "  </thead>\n",
       "  <tbody>\n",
       "    <tr>\n",
       "      <th>1</th>\n",
       "      <td>俺妹</td>\n",
       "    </tr>\n",
       "    <tr>\n",
       "      <th>2</th>\n",
       "      <td>男女</td>\n",
       "    </tr>\n",
       "    <tr>\n",
       "      <th>3</th>\n",
       "      <td>艦これ</td>\n",
       "    </tr>\n",
       "    <tr>\n",
       "      <th>4</th>\n",
       "      <td>とある魔術の禁書目録</td>\n",
       "    </tr>\n",
       "    <tr>\n",
       "      <th>5</th>\n",
       "      <td>兄妹・姉弟</td>\n",
       "    </tr>\n",
       "  </tbody>\n",
       "</table>\n",
       "</div>"
      ],
      "text/plain": [
       "            category_name\n",
       "category_id              \n",
       "1                      俺妹\n",
       "2                      男女\n",
       "3                     艦これ\n",
       "4              とある魔術の禁書目録\n",
       "5                   兄妹・姉弟"
      ]
     },
     "execution_count": 5,
     "metadata": {},
     "output_type": "execute_result"
    }
   ],
   "source": [
    "tmp_df = df[['category_id', 'category_name']].dropna()\n",
    "tmp_df.category_id = tmp_df.category_id.astype(int)\n",
    "\n",
    "category_df = tmp_df.groupby(['category_id']).agg(lambda x:x.value_counts().index[0])\n",
    "category_df[:5]"
   ]
  },
  {
   "cell_type": "code",
   "execution_count": 6,
   "metadata": {
    "collapsed": false,
    "scrolled": true
   },
   "outputs": [
    {
     "data": {
      "text/html": [
       "<div>\n",
       "<table border=\"1\" class=\"dataframe\">\n",
       "  <thead>\n",
       "    <tr style=\"text-align: right;\">\n",
       "      <th></th>\n",
       "      <th>article_id</th>\n",
       "    </tr>\n",
       "    <tr>\n",
       "      <th>category_name</th>\n",
       "      <th></th>\n",
       "    </tr>\n",
       "  </thead>\n",
       "  <tbody>\n",
       "    <tr>\n",
       "      <th>モバマス</th>\n",
       "      <td>4586</td>\n",
       "    </tr>\n",
       "    <tr>\n",
       "      <th>艦これ</th>\n",
       "      <td>1787</td>\n",
       "    </tr>\n",
       "    <tr>\n",
       "      <th>アイドルマスター</th>\n",
       "      <td>1642</td>\n",
       "    </tr>\n",
       "    <tr>\n",
       "      <th>俺ガイル</th>\n",
       "      <td>953</td>\n",
       "    </tr>\n",
       "    <tr>\n",
       "      <th>ラブライブ！</th>\n",
       "      <td>725</td>\n",
       "    </tr>\n",
       "    <tr>\n",
       "      <th>男女</th>\n",
       "      <td>695</td>\n",
       "    </tr>\n",
       "    <tr>\n",
       "      <th>シュタインズ・ゲート</th>\n",
       "      <td>461</td>\n",
       "    </tr>\n",
       "    <tr>\n",
       "      <th>勇者・魔王</th>\n",
       "      <td>388</td>\n",
       "    </tr>\n",
       "    <tr>\n",
       "      <th>咲</th>\n",
       "      <td>308</td>\n",
       "    </tr>\n",
       "    <tr>\n",
       "      <th>とある魔術の禁書目録</th>\n",
       "      <td>305</td>\n",
       "    </tr>\n",
       "    <tr>\n",
       "      <th>ゆるゆり</th>\n",
       "      <td>305</td>\n",
       "    </tr>\n",
       "    <tr>\n",
       "      <th>ガールズ＆パンツァー</th>\n",
       "      <td>267</td>\n",
       "    </tr>\n",
       "    <tr>\n",
       "      <th>ミリマス</th>\n",
       "      <td>253</td>\n",
       "    </tr>\n",
       "    <tr>\n",
       "      <th>まどかマギカ</th>\n",
       "      <td>251</td>\n",
       "    </tr>\n",
       "    <tr>\n",
       "      <th>兄妹・姉弟</th>\n",
       "      <td>239</td>\n",
       "    </tr>\n",
       "  </tbody>\n",
       "</table>\n",
       "</div>"
      ],
      "text/plain": [
       "               article_id\n",
       "category_name            \n",
       "モバマス                 4586\n",
       "艦これ                  1787\n",
       "アイドルマスター             1642\n",
       "俺ガイル                  953\n",
       "ラブライブ！                725\n",
       "男女                    695\n",
       "シュタインズ・ゲート            461\n",
       "勇者・魔王                 388\n",
       "咲                     308\n",
       "とある魔術の禁書目録            305\n",
       "ゆるゆり                  305\n",
       "ガールズ＆パンツァー            267\n",
       "ミリマス                  253\n",
       "まどかマギカ                251\n",
       "兄妹・姉弟                 239"
      ]
     },
     "execution_count": 6,
     "metadata": {},
     "output_type": "execute_result"
    }
   ],
   "source": [
    "count_each_category = df[['article_id', 'category_name']].groupby(['category_name']).agg('count').sort_values('article_id', ascending=False)\n",
    "count_each_category[:15]"
   ]
  },
  {
   "cell_type": "markdown",
   "metadata": {},
   "source": [
    "モバマス・艦これが多い"
   ]
  },
  {
   "cell_type": "markdown",
   "metadata": {},
   "source": [
    "## データ整形"
   ]
  },
  {
   "cell_type": "markdown",
   "metadata": {},
   "source": [
    "まずは記事数が多くて、かつ分類しやすそうなカテゴリだけ選んで試してみる。\n",
    "\n",
    "(ex. 「男女」と「兄妹・姉弟」などは分類しにくそうなので除外）"
   ]
  },
  {
   "cell_type": "code",
   "execution_count": 7,
   "metadata": {
    "collapsed": false
   },
   "outputs": [
    {
     "name": "stdout",
     "output_type": "stream",
     "text": [
      "カテゴリー数: 10\n",
      "対象記事数: 11339\n"
     ]
    }
   ],
   "source": [
    "easy_categories = ['モバマス', '艦これ', 'アイドルマスター', '俺ガイル', 'ラブライブ！', 'シュタインズ・ゲート', '咲', 'とある魔術の禁書目録', 'ゆるゆり', 'ガールズ＆パンツァー']\n",
    "easy_df = df[df.category_name.isin(easy_categories)]\n",
    "\n",
    "print('カテゴリー数: {}'.format(len(easy_categories)))\n",
    "print('対象記事数: {}'.format(easy_df.shape[0]))"
   ]
  },
  {
   "cell_type": "markdown",
   "metadata": {},
   "source": [
    "BeautifulSoupでhtmlタグとurlを除去。\n",
    "8コアをフルに使っても2分くらいかかる。"
   ]
  },
  {
   "cell_type": "code",
   "execution_count": 8,
   "metadata": {
    "collapsed": false,
    "scrolled": true
   },
   "outputs": [
    {
     "name": "stderr",
     "output_type": "stream",
     "text": [
      "/usr/local/lib/python3.5/site-packages/ipykernel/__main__.py:5: SettingWithCopyWarning: \n",
      "A value is trying to be set on a copy of a slice from a DataFrame.\n",
      "Try using .loc[row_indexer,col_indexer] = value instead\n",
      "\n",
      "See the caveats in the documentation: http://pandas.pydata.org/pandas-docs/stable/indexing.html#indexing-view-versus-copy\n"
     ]
    },
    {
     "data": {
      "text/html": [
       "<div>\n",
       "<table border=\"1\" class=\"dataframe\">\n",
       "  <thead>\n",
       "    <tr style=\"text-align: right;\">\n",
       "      <th></th>\n",
       "      <th>article_id</th>\n",
       "      <th>category_id</th>\n",
       "      <th>category_name</th>\n",
       "      <th>text</th>\n",
       "    </tr>\n",
       "  </thead>\n",
       "  <tbody>\n",
       "    <tr>\n",
       "      <th>0</th>\n",
       "      <td>1</td>\n",
       "      <td>3</td>\n",
       "      <td>艦これ</td>\n",
       "      <td>提督「(俺はこの鎮守府の提督)」   提督「(深海棲艦という、謎の敵から海を守るため)」  ...</td>\n",
       "    </tr>\n",
       "    <tr>\n",
       "      <th>1</th>\n",
       "      <td>2</td>\n",
       "      <td>3</td>\n",
       "      <td>艦これ</td>\n",
       "      <td>時雨「今日は雨だね、提督」   時雨「そういえば」   時雨「レイテ沖のときも雨が降っていた...</td>\n",
       "    </tr>\n",
       "    <tr>\n",
       "      <th>7</th>\n",
       "      <td>8</td>\n",
       "      <td>10</td>\n",
       "      <td>モバマス</td>\n",
       "      <td>秋風温泉ガチャをネタ元にしたＳＳです  内容はぶっちゃけ蘭子かな子芳乃とのハーレムエロなんで...</td>\n",
       "    </tr>\n",
       "    <tr>\n",
       "      <th>8</th>\n",
       "      <td>9</td>\n",
       "      <td>10</td>\n",
       "      <td>モバマス</td>\n",
       "      <td>冬ということは忘れてください     「「「ただいまー！！」」」   P「おう　みんなおかえ...</td>\n",
       "    </tr>\n",
       "    <tr>\n",
       "      <th>11</th>\n",
       "      <td>12</td>\n",
       "      <td>3</td>\n",
       "      <td>艦これ</td>\n",
       "      <td>提督「珍しいな、溜息なんてついて」   那珂「あっ、提督！　たたた溜息なんてついてないよ！？...</td>\n",
       "    </tr>\n",
       "    <tr>\n",
       "      <th>12</th>\n",
       "      <td>13</td>\n",
       "      <td>9</td>\n",
       "      <td>アイドルマスター</td>\n",
       "      <td>＿＿＿＿＿＿＿＿＿＿＿＿７６５プロ　事務所   仕事終わりの事務所にやよい、真、響、春香、美...</td>\n",
       "    </tr>\n",
       "    <tr>\n",
       "      <th>15</th>\n",
       "      <td>16</td>\n",
       "      <td>3</td>\n",
       "      <td>艦これ</td>\n",
       "      <td>【加賀の場合】     「提督、失礼します」   「あら……寝ているの？」   「最近忙しか...</td>\n",
       "    </tr>\n",
       "    <tr>\n",
       "      <th>18</th>\n",
       "      <td>19</td>\n",
       "      <td>3</td>\n",
       "      <td>艦これ</td>\n",
       "      <td>提督の第一印象？    　……提督だとは思わなかった、ですね。    　ふざけた芸人...</td>\n",
       "    </tr>\n",
       "    <tr>\n",
       "      <th>19</th>\n",
       "      <td>20</td>\n",
       "      <td>3</td>\n",
       "      <td>艦これ</td>\n",
       "      <td>提督「(雲龍がこの鎮守府に来てくれて)」   提督「(しばらく経った)」   提督「(今では...</td>\n",
       "    </tr>\n",
       "    <tr>\n",
       "      <th>20</th>\n",
       "      <td>21</td>\n",
       "      <td>9</td>\n",
       "      <td>アイドルマスター</td>\n",
       "      <td>\"5\"     \"4\"     千早「プロデューサー、いよいよですね」     \"3\"   ...</td>\n",
       "    </tr>\n",
       "  </tbody>\n",
       "</table>\n",
       "</div>"
      ],
      "text/plain": [
       "    article_id  category_id category_name  \\\n",
       "0            1            3           艦これ   \n",
       "1            2            3           艦これ   \n",
       "7            8           10          モバマス   \n",
       "8            9           10          モバマス   \n",
       "11          12            3           艦これ   \n",
       "12          13            9      アイドルマスター   \n",
       "15          16            3           艦これ   \n",
       "18          19            3           艦これ   \n",
       "19          20            3           艦これ   \n",
       "20          21            9      アイドルマスター   \n",
       "\n",
       "                                                 text  \n",
       "0   提督「(俺はこの鎮守府の提督)」   提督「(深海棲艦という、謎の敵から海を守るため)」  ...  \n",
       "1   時雨「今日は雨だね、提督」   時雨「そういえば」   時雨「レイテ沖のときも雨が降っていた...  \n",
       "7   秋風温泉ガチャをネタ元にしたＳＳです  内容はぶっちゃけ蘭子かな子芳乃とのハーレムエロなんで...  \n",
       "8   冬ということは忘れてください     「「「ただいまー！！」」」   P「おう　みんなおかえ...  \n",
       "11  提督「珍しいな、溜息なんてついて」   那珂「あっ、提督！　たたた溜息なんてついてないよ！？...  \n",
       "12  ＿＿＿＿＿＿＿＿＿＿＿＿７６５プロ　事務所   仕事終わりの事務所にやよい、真、響、春香、美...  \n",
       "15  【加賀の場合】     「提督、失礼します」   「あら……寝ているの？」   「最近忙しか...  \n",
       "18     　提督の第一印象？    　……提督だとは思わなかった、ですね。    　ふざけた芸人...  \n",
       "19  提督「(雲龍がこの鎮守府に来てくれて)」   提督「(しばらく経った)」   提督「(今では...  \n",
       "20  \"5\"     \"4\"     千早「プロデューサー、いよいよですね」     \"3\"   ...  "
      ]
     },
     "execution_count": 8,
     "metadata": {},
     "output_type": "execute_result"
    }
   ],
   "source": [
    "def extract_text(html):\n",
    "    text = BeautifulSoup(html, \"html.parser\").getText() # htmlタグを除去\n",
    "    return re.sub(r'https?://[^\\s/$.?#].[^\\s]*', '', text) # urlを除去\n",
    "\n",
    "easy_df['text'] = applyParallel(easy_df.html, extract_text).values\n",
    "\n",
    "easy_df = easy_df.drop('html', axis=1)\n",
    "easy_df.category_id = easy_df.category_id.astype(int)\n",
    "easy_df[:10]"
   ]
  },
  {
   "cell_type": "markdown",
   "metadata": {},
   "source": [
    "## 特徴量に使う単語辞書作成\n",
    "\n",
    "それぞれのカテゴリから、td-idf値の高い単語を抽出する。"
   ]
  },
  {
   "cell_type": "code",
   "execution_count": 9,
   "metadata": {
    "collapsed": false,
    "scrolled": false
   },
   "outputs": [
    {
     "data": {
      "text/plain": [
       "'EOS\\n'"
      ]
     },
     "execution_count": 9,
     "metadata": {},
     "output_type": "execute_result"
    }
   ],
   "source": [
    "import MeCab\n",
    "tagger = MeCab.Tagger('-Ochasen -d /usr/lib/mecab/dic/mecab-ipadic-neologd')\n",
    "tagger.parse('') #　おまじない(mecabのバグ)"
   ]
  },
  {
   "cell_type": "markdown",
   "metadata": {},
   "source": [
    "Nelogd辞書がちゃんと機能しているかチェック"
   ]
  },
  {
   "cell_type": "code",
   "execution_count": 10,
   "metadata": {
    "collapsed": false,
    "scrolled": true
   },
   "outputs": [
    {
     "name": "stdout",
     "output_type": "stream",
     "text": [
      "新\t\t接頭詞,名詞接続,*,*,*,*,新,シン,シン\n",
      "辞書\t\t名詞,一般,*,*,*,*,辞書,ジショ,ジショ\n",
      "が\t\t助詞,格助詞,一般,*,*,*,が,ガ,ガ\n",
      "必要\t\t名詞,形容動詞語幹,*,*,*,*,必要,ヒツヨウ,ヒツヨー\n",
      "な\t\t助動詞,*,*,*,特殊・ダ,体言接続,だ,ナ,ナ\n",
      "の\t\t名詞,非自立,一般,*,*,*,の,ノ,ノ\n",
      "は\t\t助詞,係助詞,*,*,*,*,は,ハ,ワ\n",
      "、\t\t記号,読点,*,*,*,*,、,、,、\n",
      "なのは\t\t名詞,固有名詞,人名,一般,*,*,なのは,ナノハ,ナノハ\n",
      "みたい\t\t名詞,非自立,形容動詞語幹,*,*,*,みたい,ミタイ,ミタイ\n",
      "な\t\t助動詞,*,*,*,特殊・ダ,体言接続,だ,ナ,ナ\n",
      "ややこしい\t\t形容詞,自立,*,*,形容詞・イ段,基本形,ややこしい,ヤヤコシイ,ヤヤコシイ\n",
      "名前\t\t名詞,一般,*,*,*,*,名前,ナマエ,ナマエ\n",
      "が\t\t助詞,格助詞,一般,*,*,*,が,ガ,ガ\n",
      "入っ\t\t動詞,自立,*,*,五段・ラ行,連用タ接続,入る,ハイッ,ハイッ\n",
      "てる\t\t動詞,非自立,*,*,一段,基本形,てる,テル,テル\n",
      "とき\t\t名詞,非自立,副詞可能,*,*,*,とき,トキ,トキ\n"
     ]
    }
   ],
   "source": [
    "node = tagger.parseToNode(\"新辞書が必要なのは、なのはみたいなややこしい名前が入ってるとき\")\n",
    "node = node.next\n",
    "\n",
    "while node and node.surface:\n",
    "    print(\"{}\\t\\t{}\".format(node.surface, node.feature))\n",
    "    node = node.next"
   ]
  },
  {
   "cell_type": "markdown",
   "metadata": {},
   "source": [
    "一般名詞と固有名詞だけ抽出"
   ]
  },
  {
   "cell_type": "code",
   "execution_count": 11,
   "metadata": {
    "collapsed": false,
    "scrolled": false
   },
   "outputs": [
    {
     "data": {
      "text/html": [
       "<div>\n",
       "<table border=\"1\" class=\"dataframe\">\n",
       "  <thead>\n",
       "    <tr style=\"text-align: right;\">\n",
       "      <th></th>\n",
       "      <th>category_name</th>\n",
       "      <th>words</th>\n",
       "    </tr>\n",
       "  </thead>\n",
       "  <tbody>\n",
       "    <tr>\n",
       "      <th>0</th>\n",
       "      <td>艦これ</td>\n",
       "      <td>[提督, 鎮守府, 提督, 提督, 深海, 棲艦, 謎, 敵, 海, 提督, 艦娘, 一緒に...</td>\n",
       "    </tr>\n",
       "    <tr>\n",
       "      <th>1</th>\n",
       "      <td>艦これ</td>\n",
       "      <td>[時雨, 今日は雨, 提督, 時雨, 時雨, レイテ, 沖, 雨, 時雨, 時雨, 扶桑, ...</td>\n",
       "    </tr>\n",
       "    <tr>\n",
       "      <th>7</th>\n",
       "      <td>モバマス</td>\n",
       "      <td>[秋風, 温泉, ガチャ, ネタ, ＳＳ, 内容, ぶっちゃけ, 蘭子, かな子, 芳, 乃...</td>\n",
       "    </tr>\n",
       "    <tr>\n",
       "      <th>8</th>\n",
       "      <td>モバマス</td>\n",
       "      <td>[冬, ー, P, 薫, ぇ, P, 薫, 薫, ザリガニ, ザリガニ, ｸﾜｧ, P, 千...</td>\n",
       "    </tr>\n",
       "    <tr>\n",
       "      <th>11</th>\n",
       "      <td>艦これ</td>\n",
       "      <td>[提督, 溜息, 那珂, 提督, 溜息, 那珂, ア, イドル, 提督, 那珂, アイドル,...</td>\n",
       "    </tr>\n",
       "  </tbody>\n",
       "</table>\n",
       "</div>"
      ],
      "text/plain": [
       "   category_name                                              words\n",
       "0            艦これ  [提督, 鎮守府, 提督, 提督, 深海, 棲艦, 謎, 敵, 海, 提督, 艦娘, 一緒に...\n",
       "1            艦これ  [時雨, 今日は雨, 提督, 時雨, 時雨, レイテ, 沖, 雨, 時雨, 時雨, 扶桑, ...\n",
       "7           モバマス  [秋風, 温泉, ガチャ, ネタ, ＳＳ, 内容, ぶっちゃけ, 蘭子, かな子, 芳, 乃...\n",
       "8           モバマス  [冬, ー, P, 薫, ぇ, P, 薫, 薫, ザリガニ, ザリガニ, ｸﾜｧ, P, 千...\n",
       "11           艦これ  [提督, 溜息, 那珂, 提督, 溜息, 那珂, ア, イドル, 提督, 那珂, アイドル,..."
      ]
     },
     "execution_count": 11,
     "metadata": {},
     "output_type": "execute_result"
    }
   ],
   "source": [
    "def get_separted_words(text):\n",
    "    word_array = []\n",
    "    \n",
    "    node = tagger.parseToNode(text)\n",
    "    while node:\n",
    "        split = node.feature.split(',')\n",
    "        if split[0] == '名詞' and (split[1] in ['一般', '固有名詞']):\n",
    "            word_array.append(node.surface)\n",
    "        node = node.next\n",
    "    return word_array\n",
    "\n",
    "easy_df['words'] = applyParallel(easy_df.text, get_separted_words).values\n",
    "easy_df[:5][['category_name', 'words']]"
   ]
  },
  {
   "cell_type": "markdown",
   "metadata": {},
   "source": [
    "カテゴリごとにwordsを結合してコーパスを作る。（並列化できてないので重い）"
   ]
  },
  {
   "cell_type": "code",
   "execution_count": 12,
   "metadata": {
    "collapsed": false,
    "scrolled": true
   },
   "outputs": [
    {
     "data": {
      "text/html": [
       "<div>\n",
       "<table border=\"1\" class=\"dataframe\">\n",
       "  <thead>\n",
       "    <tr style=\"text-align: right;\">\n",
       "      <th></th>\n",
       "      <th>words</th>\n",
       "    </tr>\n",
       "    <tr>\n",
       "      <th>category_name</th>\n",
       "      <th></th>\n",
       "    </tr>\n",
       "  </thead>\n",
       "  <tbody>\n",
       "    <tr>\n",
       "      <th>とある魔術の禁書目録</th>\n",
       "      <td>[上条, ω, 前回, 上条, 上条, キャラ, &gt;&gt;1, キャラ, とこ, SSWiki,...</td>\n",
       "    </tr>\n",
       "    <tr>\n",
       "      <th>ゆるゆり</th>\n",
       "      <td>[あかり, 不満, 赤座あかり, 空, 空, 世界, 赤座あかり, 暇, 空, 空, 飛行機...</td>\n",
       "    </tr>\n",
       "    <tr>\n",
       "      <th>アイドルマスター</th>\n",
       "      <td>[プロ, 事務所, 事務所, やよい, 真, 響, 春香, 美希, プロデューサー, 机, ...</td>\n",
       "    </tr>\n",
       "    <tr>\n",
       "      <th>ガールズ＆パンツァー</th>\n",
       "      <td>[沙織, 彼氏, 彼氏, 優花里, 彼氏, どうでしょう, カチューシャ, 尻相撲, 優花里...</td>\n",
       "    </tr>\n",
       "    <tr>\n",
       "      <th>シュタインズ・ゲート</th>\n",
       "      <td>[未来, ガジェット, 研究所, 岡部, フゥーハハハ, 狂気, マァッドサイエンティスト,...</td>\n",
       "    </tr>\n",
       "    <tr>\n",
       "      <th>モバマス</th>\n",
       "      <td>[秋風, 温泉, ガチャ, ネタ, ＳＳ, 内容, ぶっちゃけ, 蘭子, かな子, 芳, 乃...</td>\n",
       "    </tr>\n",
       "    <tr>\n",
       "      <th>ラブライブ！</th>\n",
       "      <td>[凛, 姫ちゃん, 姫, 花陽, 姫, 先, 凛, 花陽, 姫, ごめんね, 凛, 次, 花...</td>\n",
       "    </tr>\n",
       "    <tr>\n",
       "      <th>俺ガイル</th>\n",
       "      <td>[葉山, 比企, 谷, 葉山, 陽, 乃, ドリンク, 葉山, 全身, 痛み, 葉山, 子供...</td>\n",
       "    </tr>\n",
       "    <tr>\n",
       "      <th>咲</th>\n",
       "      <td>[ギバ, ぢ, ゃ゛ん゛が, テレビ, こ, ア, ア, 咏, 自分, 全国, いって, ギ...</td>\n",
       "    </tr>\n",
       "    <tr>\n",
       "      <th>艦これ</th>\n",
       "      <td>[提督, 鎮守府, 提督, 提督, 深海, 棲艦, 謎, 敵, 海, 提督, 艦娘, 一緒に...</td>\n",
       "    </tr>\n",
       "  </tbody>\n",
       "</table>\n",
       "</div>"
      ],
      "text/plain": [
       "                                                           words\n",
       "category_name                                                   \n",
       "とある魔術の禁書目録     [上条, ω, 前回, 上条, 上条, キャラ, >>1, キャラ, とこ, SSWiki,...\n",
       "ゆるゆり           [あかり, 不満, 赤座あかり, 空, 空, 世界, 赤座あかり, 暇, 空, 空, 飛行機...\n",
       "アイドルマスター       [プロ, 事務所, 事務所, やよい, 真, 響, 春香, 美希, プロデューサー, 机, ...\n",
       "ガールズ＆パンツァー     [沙織, 彼氏, 彼氏, 優花里, 彼氏, どうでしょう, カチューシャ, 尻相撲, 優花里...\n",
       "シュタインズ・ゲート     [未来, ガジェット, 研究所, 岡部, フゥーハハハ, 狂気, マァッドサイエンティスト,...\n",
       "モバマス           [秋風, 温泉, ガチャ, ネタ, ＳＳ, 内容, ぶっちゃけ, 蘭子, かな子, 芳, 乃...\n",
       "ラブライブ！         [凛, 姫ちゃん, 姫, 花陽, 姫, 先, 凛, 花陽, 姫, ごめんね, 凛, 次, 花...\n",
       "俺ガイル           [葉山, 比企, 谷, 葉山, 陽, 乃, ドリンク, 葉山, 全身, 痛み, 葉山, 子供...\n",
       "咲              [ギバ, ぢ, ゃ゛ん゛が, テレビ, こ, ア, ア, 咏, 自分, 全国, いって, ギ...\n",
       "艦これ            [提督, 鎮守府, 提督, 提督, 深海, 棲艦, 謎, 敵, 海, 提督, 艦娘, 一緒に..."
      ]
     },
     "execution_count": 12,
     "metadata": {},
     "output_type": "execute_result"
    }
   ],
   "source": [
    "grouped_words = easy_df[['category_name', 'words']].groupby(['category_name']).agg('sum')\n",
    "grouped_words"
   ]
  },
  {
   "cell_type": "markdown",
   "metadata": {},
   "source": [
    "カテゴリごとに、tf-idfが高い単語を抽出する。"
   ]
  },
  {
   "cell_type": "code",
   "execution_count": 35,
   "metadata": {
    "collapsed": false
   },
   "outputs": [
    {
     "data": {
      "text/plain": [
       "[[('ミサカ', 0.02055882485008614),\n",
       "  ('美琴', 0.019454978025012542),\n",
       "  ('上条', 0.019116087569487437)],\n",
       " [('櫻子', 0.054716933276526714),\n",
       "  ('京子', 0.052083736946399381),\n",
       "  ('あかり', 0.04762419467506071)],\n",
       " [('伊織', 0.013966713510533444),\n",
       "  ('春香', 0.012453572113815608),\n",
       "  ('美希', 0.010367820419800272)],\n",
       " [('エリカ', 0.044051734611033753),\n",
       "  ('優花里', 0.023809148664592508),\n",
       "  ('沙織', 0.016377129543714931)],\n",
       " [('岡部', 0.11048434720109576),\n",
       "  ('栖', 0.041943341691853014),\n",
       "  ('郁', 0.02017804786283945)],\n",
       " [('モバ', 0.014257525329247822),\n",
       "  ('幸子', 0.009183117912948428),\n",
       "  ('菜々', 0.0091188290413308382)],\n",
       " [('花陽', 0.060050368850414031),\n",
       "  ('絵里', 0.035700395931709462),\n",
       "  ('果', 0.03336997107730158)],\n",
       " [('八幡', 0.11144398691385726),\n",
       "  ('由比ヶ浜', 0.023345991448346943),\n",
       "  ('雪ノ下', 0.020787907239110934)],\n",
       " [('京太郎', 0.043389555367994589),\n",
       "  ('竜華', 0.022630988277614717),\n",
       "  ('憧', 0.021505790785062904)],\n",
       " [('提督', 0.022535396162667077),\n",
       "  ('加賀', 0.016472915047054462),\n",
       "  ('瑞鶴', 0.013695844511141709)]]"
      ]
     },
     "execution_count": 35,
     "metadata": {},
     "output_type": "execute_result"
    }
   ],
   "source": [
    "counters = list(map(lambda word_array: Counter(word_array), grouped_words.words.values))\n",
    "\n",
    "cutoff = 0.001\n",
    "def get_tf_idf_above_cutoff(counter):\n",
    "    global counters, cutoff\n",
    "    \n",
    "    words = counter.most_common(200) # [('hello', 142), ('world', 24), ...]\n",
    "    word_len = sum(counter.values())\n",
    "    \n",
    "    tf_idf = Counter()\n",
    "    for word in words:\n",
    "        tf = word[1] / word_len\n",
    "        idf = np.log(len(counters) / sum(map(lambda counter: 1 if counter[word[0]] > 0 else 0, counters)))\n",
    "        if tf * idf > cutoff:\n",
    "            tf_idf[word[0]] = tf * idf\n",
    "    return tf_idf\n",
    "\n",
    "high_tfidf_words = list(map(get_tf_idf_above_cutoff, counters))\n",
    "list(map(lambda x: x.most_common(3), high_tfidf_words)) # それぞれ上位3つのみ表示"
   ]
  },
  {
   "cell_type": "markdown",
   "metadata": {},
   "source": [
    "かなり良い感じの単語を抽出出来ているようだ。"
   ]
  },
  {
   "cell_type": "markdown",
   "metadata": {},
   "source": [
    "単語 -> インデックスのdictionaryを作成"
   ]
  },
  {
   "cell_type": "code",
   "execution_count": 36,
   "metadata": {
    "collapsed": false
   },
   "outputs": [
    {
     "data": {
      "text/plain": [
       "'辞書内の単語数: 484'"
      ]
     },
     "execution_count": 36,
     "metadata": {},
     "output_type": "execute_result"
    }
   ],
   "source": [
    "def flatten(l):\n",
    "    return [item for sublist in l for item in sublist]\n",
    "\n",
    "all_words = set(flatten(map(lambda counter: counter.keys(), high_tfidf_words)))\n",
    "\n",
    "word2index = {}\n",
    "for i,v in enumerate(all_words):\n",
    "    word2index[v] = i\n",
    "\n",
    "num_words = len(word2index)\n",
    "\"辞書内の単語数: {}\".format(num_words)"
   ]
  },
  {
   "cell_type": "markdown",
   "metadata": {},
   "source": [
    "それぞれの記事から、辞書内の単語のみ抽出\n",
    "\n",
    "8コアで2分くらいかかる"
   ]
  },
  {
   "cell_type": "code",
   "execution_count": 37,
   "metadata": {
    "collapsed": false,
    "scrolled": true
   },
   "outputs": [
    {
     "data": {
      "text/html": [
       "<div>\n",
       "<table border=\"1\" class=\"dataframe\">\n",
       "  <thead>\n",
       "    <tr style=\"text-align: right;\">\n",
       "      <th></th>\n",
       "      <th>category_name</th>\n",
       "      <th>feature_words</th>\n",
       "    </tr>\n",
       "  </thead>\n",
       "  <tbody>\n",
       "    <tr>\n",
       "      <th>0</th>\n",
       "      <td>艦これ</td>\n",
       "      <td>[提督, 鎮守府, 提督, 提督, 棲艦, 提督, 艦娘, 提督, 艦娘, 提督, 提督, ...</td>\n",
       "    </tr>\n",
       "    <tr>\n",
       "      <th>1</th>\n",
       "      <td>艦これ</td>\n",
       "      <td>[時雨, 提督, 時雨, 時雨, 時雨, 時雨, 扶桑, 山城, 時雨, 満潮, 時雨, 時...</td>\n",
       "    </tr>\n",
       "    <tr>\n",
       "      <th>7</th>\n",
       "      <td>モバマス</td>\n",
       "      <td>[蘭子, かな子, 芳, 乃, 蘭子, かな子, 芳, 乃, 蘭子, かな子, 芳, 乃, ...</td>\n",
       "    </tr>\n",
       "    <tr>\n",
       "      <th>8</th>\n",
       "      <td>モバマス</td>\n",
       "      <td>[薫, 薫, 薫, 薫, 薫, 薫, 薫, 薫, 薫, 薫, 薫, 薫, 薫, 薫, 薫, ...</td>\n",
       "    </tr>\n",
       "    <tr>\n",
       "      <th>11</th>\n",
       "      <td>艦これ</td>\n",
       "      <td>[提督, 那珂, 提督, 那珂, 提督, 那珂, 提督, 那珂, 提督, 那珂, 提督, 那...</td>\n",
       "    </tr>\n",
       "    <tr>\n",
       "      <th>12</th>\n",
       "      <td>アイドルマスター</td>\n",
       "      <td>[やよい, 響, 春香, 美希, 響, 響, 響, 響, 美希, 春香, やよい, 美希, ...</td>\n",
       "    </tr>\n",
       "    <tr>\n",
       "      <th>15</th>\n",
       "      <td>艦これ</td>\n",
       "      <td>[加賀, 提督, 提督, 提督, 赤城さん, 提督, 艦娘, 戦艦, 青葉, 司令官, 司令...</td>\n",
       "    </tr>\n",
       "    <tr>\n",
       "      <th>18</th>\n",
       "      <td>艦これ</td>\n",
       "      <td>[提督, 提督, 提督, 提督, 提督, 赤城, 鎮守府, 提督, 提督, 提督, 赤城, ...</td>\n",
       "    </tr>\n",
       "    <tr>\n",
       "      <th>19</th>\n",
       "      <td>艦これ</td>\n",
       "      <td>[提督, 鎮守府, 提督, 提督, 提督, 提督, 艦娘, 提督, 提督, 提督, 提督, ...</td>\n",
       "    </tr>\n",
       "    <tr>\n",
       "      <th>20</th>\n",
       "      <td>アイドルマスター</td>\n",
       "      <td>[千早, 千早, 千早, 千早, 千早, 千早, 千早, 千早, 千早, 千早, 千早, 千...</td>\n",
       "    </tr>\n",
       "  </tbody>\n",
       "</table>\n",
       "</div>"
      ],
      "text/plain": [
       "   category_name                                      feature_words\n",
       "0            艦これ  [提督, 鎮守府, 提督, 提督, 棲艦, 提督, 艦娘, 提督, 艦娘, 提督, 提督, ...\n",
       "1            艦これ  [時雨, 提督, 時雨, 時雨, 時雨, 時雨, 扶桑, 山城, 時雨, 満潮, 時雨, 時...\n",
       "7           モバマス  [蘭子, かな子, 芳, 乃, 蘭子, かな子, 芳, 乃, 蘭子, かな子, 芳, 乃, ...\n",
       "8           モバマス  [薫, 薫, 薫, 薫, 薫, 薫, 薫, 薫, 薫, 薫, 薫, 薫, 薫, 薫, 薫, ...\n",
       "11           艦これ  [提督, 那珂, 提督, 那珂, 提督, 那珂, 提督, 那珂, 提督, 那珂, 提督, 那...\n",
       "12      アイドルマスター  [やよい, 響, 春香, 美希, 響, 響, 響, 響, 美希, 春香, やよい, 美希, ...\n",
       "15           艦これ  [加賀, 提督, 提督, 提督, 赤城さん, 提督, 艦娘, 戦艦, 青葉, 司令官, 司令...\n",
       "18           艦これ  [提督, 提督, 提督, 提督, 提督, 赤城, 鎮守府, 提督, 提督, 提督, 赤城, ...\n",
       "19           艦これ  [提督, 鎮守府, 提督, 提督, 提督, 提督, 艦娘, 提督, 提督, 提督, 提督, ...\n",
       "20      アイドルマスター  [千早, 千早, 千早, 千早, 千早, 千早, 千早, 千早, 千早, 千早, 千早, 千..."
      ]
     },
     "execution_count": 37,
     "metadata": {},
     "output_type": "execute_result"
    }
   ],
   "source": [
    "def get_feature_words(text):\n",
    "    word_array = get_separted_words(text)\n",
    "    feature_word_array = []\n",
    "    for word in word_array:\n",
    "        if word in word2index:\n",
    "            feature_word_array.append(word)\n",
    "    return feature_word_array\n",
    "\n",
    "easy_df['feature_words'] = applyParallel(easy_df.text, get_feature_words).values\n",
    "easy_df[:10][['category_name', 'feature_words']]"
   ]
  },
  {
   "cell_type": "markdown",
   "metadata": {},
   "source": [
    "単語が出現した回数を考慮して、特徴量ベクトルに変換（長さが1になるように正規化）"
   ]
  },
  {
   "cell_type": "code",
   "execution_count": 38,
   "metadata": {
    "collapsed": false
   },
   "outputs": [
    {
     "data": {
      "text/plain": [
       "0    [0.0, 0.0, 0.0, 0.0, 0.0, 0.0, 0.0, 0.0, 0.0, ...\n",
       "1    [0.0, 0.0, 0.0, 0.0, 0.0, 0.0, 0.0, 0.0, 0.0, ...\n",
       "7    [0.0, 0.0, 0.0, 0.0, 0.0, 0.0, 0.0, 0.0, 0.0, ...\n",
       "Name: feature_words, dtype: object"
      ]
     },
     "execution_count": 38,
     "metadata": {},
     "output_type": "execute_result"
    }
   ],
   "source": [
    "def get_dense_features(feature_words):\n",
    "    global word2index\n",
    "    counter = Counter(feature_words)\n",
    "    word_len = sum(counter.values())\n",
    "    feature_vec = np.zeros(len(word2index), dtype=np.float64)\n",
    "    \n",
    "    for word in counter.items():\n",
    "        # log(単語の出現回数 + 1) を特徴量とする\n",
    "        feature_vec[word2index[word[0]]] = np.log(word[1] + 1)\n",
    "    if np.linalg.norm(feature_vec) == 0:\n",
    "        return feature_vec\n",
    "    else:\n",
    "        return feature_vec / np.linalg.norm(feature_vec) # n2ノルム正規化\n",
    "\n",
    "easy_df[:3].feature_words.apply(get_dense_features)"
   ]
  },
  {
   "cell_type": "markdown",
   "metadata": {},
   "source": [
    "特徴量行列を作成"
   ]
  },
  {
   "cell_type": "code",
   "execution_count": 39,
   "metadata": {
    "collapsed": false
   },
   "outputs": [],
   "source": [
    "features = applyParallel(easy_df.feature_words, get_dense_features, asDataFrame=True)\n",
    "labels = easy_df.category_id"
   ]
  },
  {
   "cell_type": "markdown",
   "metadata": {},
   "source": [
    "## scikit-learnで予測\n",
    "\n",
    "いくつかの手法で予測。\n",
    "\n",
    "- SVM\n",
    "- Logistic Regression\n",
    "- Random Forest\n",
    "\n",
    "データがそこそこ大きいので、解析的に解くモデルだと終わりません。"
   ]
  },
  {
   "cell_type": "code",
   "execution_count": 40,
   "metadata": {
    "collapsed": false
   },
   "outputs": [],
   "source": [
    "# テンプレート\n",
    "def evaluate_model(model):\n",
    "    global features, labels\n",
    "    scores = cross_validation.cross_val_score(model, features, labels, cv=5)\n",
    "    print(\"Accuracy: %0.5f (+/- %0.5f)\" % (scores.mean(), scores.std() * 2))"
   ]
  },
  {
   "cell_type": "markdown",
   "metadata": {},
   "source": [
    "### クロスバリデーションでモデルを評価"
   ]
  },
  {
   "cell_type": "code",
   "execution_count": 41,
   "metadata": {
    "collapsed": false,
    "scrolled": false
   },
   "outputs": [
    {
     "name": "stdout",
     "output_type": "stream",
     "text": [
      "Accuracy: 0.98668 (+/- 0.00463)\n"
     ]
    }
   ],
   "source": [
    "# SVM\n",
    "evaluate_model(SGDClassifier(loss=\"hinge\", penalty='l2', n_jobs=multiprocessing.cpu_count()))"
   ]
  },
  {
   "cell_type": "code",
   "execution_count": 42,
   "metadata": {
    "collapsed": false,
    "scrolled": false
   },
   "outputs": [
    {
     "name": "stdout",
     "output_type": "stream",
     "text": [
      "Accuracy: 0.98324 (+/- 0.00434)\n"
     ]
    }
   ],
   "source": [
    "# ロジスティック回帰\n",
    "evaluate_model(SGDClassifier(loss=\"log\", penalty='l2', n_jobs=multiprocessing.cpu_count()))"
   ]
  },
  {
   "cell_type": "code",
   "execution_count": 43,
   "metadata": {
    "collapsed": false
   },
   "outputs": [
    {
     "name": "stdout",
     "output_type": "stream",
     "text": [
      "Accuracy: 0.98254 (+/- 0.00509)\n"
     ]
    }
   ],
   "source": [
    "# ランダムフォレスト\n",
    "evaluate_model(RandomForestClassifier(n_estimators=10, n_jobs=multiprocessing.cpu_count()))"
   ]
  },
  {
   "cell_type": "markdown",
   "metadata": {},
   "source": [
    "SVMが一番良い"
   ]
  },
  {
   "cell_type": "markdown",
   "metadata": {},
   "source": [
    "以下SVMを使用"
   ]
  },
  {
   "cell_type": "code",
   "execution_count": 44,
   "metadata": {
    "collapsed": false,
    "scrolled": true
   },
   "outputs": [
    {
     "data": {
      "text/html": [
       "<div>\n",
       "<table border=\"1\" class=\"dataframe\">\n",
       "  <thead>\n",
       "    <tr style=\"text-align: right;\">\n",
       "      <th>category_id</th>\n",
       "      <th>3</th>\n",
       "      <th>4</th>\n",
       "      <th>6</th>\n",
       "      <th>9</th>\n",
       "      <th>10</th>\n",
       "      <th>12</th>\n",
       "      <th>20</th>\n",
       "      <th>26</th>\n",
       "      <th>27</th>\n",
       "      <th>35</th>\n",
       "    </tr>\n",
       "    <tr>\n",
       "      <th>row_0</th>\n",
       "      <th></th>\n",
       "      <th></th>\n",
       "      <th></th>\n",
       "      <th></th>\n",
       "      <th></th>\n",
       "      <th></th>\n",
       "      <th></th>\n",
       "      <th></th>\n",
       "      <th></th>\n",
       "      <th></th>\n",
       "    </tr>\n",
       "  </thead>\n",
       "  <tbody>\n",
       "    <tr>\n",
       "      <th>3</th>\n",
       "      <td>266</td>\n",
       "      <td>0</td>\n",
       "      <td>0</td>\n",
       "      <td>0</td>\n",
       "      <td>1</td>\n",
       "      <td>0</td>\n",
       "      <td>0</td>\n",
       "      <td>0</td>\n",
       "      <td>0</td>\n",
       "      <td>1</td>\n",
       "    </tr>\n",
       "    <tr>\n",
       "      <th>4</th>\n",
       "      <td>0</td>\n",
       "      <td>55</td>\n",
       "      <td>0</td>\n",
       "      <td>0</td>\n",
       "      <td>0</td>\n",
       "      <td>1</td>\n",
       "      <td>0</td>\n",
       "      <td>0</td>\n",
       "      <td>0</td>\n",
       "      <td>0</td>\n",
       "    </tr>\n",
       "    <tr>\n",
       "      <th>6</th>\n",
       "      <td>0</td>\n",
       "      <td>0</td>\n",
       "      <td>195</td>\n",
       "      <td>0</td>\n",
       "      <td>1</td>\n",
       "      <td>0</td>\n",
       "      <td>0</td>\n",
       "      <td>0</td>\n",
       "      <td>0</td>\n",
       "      <td>0</td>\n",
       "    </tr>\n",
       "    <tr>\n",
       "      <th>9</th>\n",
       "      <td>0</td>\n",
       "      <td>0</td>\n",
       "      <td>1</td>\n",
       "      <td>237</td>\n",
       "      <td>4</td>\n",
       "      <td>0</td>\n",
       "      <td>0</td>\n",
       "      <td>0</td>\n",
       "      <td>0</td>\n",
       "      <td>0</td>\n",
       "    </tr>\n",
       "    <tr>\n",
       "      <th>10</th>\n",
       "      <td>2</td>\n",
       "      <td>0</td>\n",
       "      <td>7</td>\n",
       "      <td>9</td>\n",
       "      <td>1079</td>\n",
       "      <td>0</td>\n",
       "      <td>0</td>\n",
       "      <td>0</td>\n",
       "      <td>1</td>\n",
       "      <td>1</td>\n",
       "    </tr>\n",
       "    <tr>\n",
       "      <th>12</th>\n",
       "      <td>0</td>\n",
       "      <td>0</td>\n",
       "      <td>0</td>\n",
       "      <td>0</td>\n",
       "      <td>0</td>\n",
       "      <td>95</td>\n",
       "      <td>0</td>\n",
       "      <td>0</td>\n",
       "      <td>0</td>\n",
       "      <td>0</td>\n",
       "    </tr>\n",
       "    <tr>\n",
       "      <th>20</th>\n",
       "      <td>0</td>\n",
       "      <td>0</td>\n",
       "      <td>0</td>\n",
       "      <td>0</td>\n",
       "      <td>0</td>\n",
       "      <td>0</td>\n",
       "      <td>61</td>\n",
       "      <td>0</td>\n",
       "      <td>0</td>\n",
       "      <td>0</td>\n",
       "    </tr>\n",
       "    <tr>\n",
       "      <th>26</th>\n",
       "      <td>0</td>\n",
       "      <td>0</td>\n",
       "      <td>0</td>\n",
       "      <td>0</td>\n",
       "      <td>0</td>\n",
       "      <td>0</td>\n",
       "      <td>0</td>\n",
       "      <td>51</td>\n",
       "      <td>0</td>\n",
       "      <td>0</td>\n",
       "    </tr>\n",
       "    <tr>\n",
       "      <th>27</th>\n",
       "      <td>0</td>\n",
       "      <td>0</td>\n",
       "      <td>0</td>\n",
       "      <td>1</td>\n",
       "      <td>0</td>\n",
       "      <td>0</td>\n",
       "      <td>0</td>\n",
       "      <td>0</td>\n",
       "      <td>40</td>\n",
       "      <td>0</td>\n",
       "    </tr>\n",
       "    <tr>\n",
       "      <th>35</th>\n",
       "      <td>0</td>\n",
       "      <td>0</td>\n",
       "      <td>0</td>\n",
       "      <td>0</td>\n",
       "      <td>1</td>\n",
       "      <td>0</td>\n",
       "      <td>0</td>\n",
       "      <td>0</td>\n",
       "      <td>0</td>\n",
       "      <td>158</td>\n",
       "    </tr>\n",
       "  </tbody>\n",
       "</table>\n",
       "</div>"
      ],
      "text/plain": [
       "category_id   3   4    6    9     10  12  20  26  27   35\n",
       "row_0                                                    \n",
       "3            266   0    0    0     1   0   0   0   0    1\n",
       "4              0  55    0    0     0   1   0   0   0    0\n",
       "6              0   0  195    0     1   0   0   0   0    0\n",
       "9              0   0    1  237     4   0   0   0   0    0\n",
       "10             2   0    7    9  1079   0   0   0   1    1\n",
       "12             0   0    0    0     0  95   0   0   0    0\n",
       "20             0   0    0    0     0   0  61   0   0    0\n",
       "26             0   0    0    0     0   0   0  51   0    0\n",
       "27             0   0    0    1     0   0   0   0  40    0\n",
       "35             0   0    0    0     1   0   0   0   0  158"
      ]
     },
     "execution_count": 44,
     "metadata": {},
     "output_type": "execute_result"
    }
   ],
   "source": [
    "split_point = int(len(labels) * 0.8)\n",
    "train_features = features[:split_point]\n",
    "test_features = features[split_point:]\n",
    "train_labels = labels[:split_point]\n",
    "test_labels = labels[split_point:]\n",
    "\n",
    "pred = SGDClassifier(loss=\"hinge\", penalty='l2', n_jobs=multiprocessing.cpu_count()).fit(train_features, train_labels).predict(test_features)\n",
    "pd.crosstab(pred, test_labels)"
   ]
  },
  {
   "cell_type": "markdown",
   "metadata": {},
   "source": [
    "分類に失敗したSSを眺めてみる"
   ]
  },
  {
   "cell_type": "code",
   "execution_count": 45,
   "metadata": {
    "collapsed": false,
    "scrolled": true
   },
   "outputs": [
    {
     "data": {
      "text/html": [
       "<div>\n",
       "<table border=\"1\" class=\"dataframe\">\n",
       "  <thead>\n",
       "    <tr style=\"text-align: right;\">\n",
       "      <th></th>\n",
       "      <th>article_id</th>\n",
       "      <th>category_name</th>\n",
       "      <th>pred</th>\n",
       "      <th>feature_words</th>\n",
       "    </tr>\n",
       "  </thead>\n",
       "  <tbody>\n",
       "    <tr>\n",
       "      <th>15551</th>\n",
       "      <td>16187</td>\n",
       "      <td>アイドルマスター</td>\n",
       "      <td>モバマス</td>\n",
       "      <td>[凛, モバ, 凛, 律子, 凛, モバ, 凛, モバ, 凛, モバ, 凛, モバ, モバ,...</td>\n",
       "    </tr>\n",
       "    <tr>\n",
       "      <th>15629</th>\n",
       "      <td>16265</td>\n",
       "      <td>咲</td>\n",
       "      <td>モバマス</td>\n",
       "      <td>[大星, 大星, 大星, 大星, 大星, 大星, 大星, 大星, 絹, 大星, 大星, 大星...</td>\n",
       "    </tr>\n",
       "    <tr>\n",
       "      <th>15871</th>\n",
       "      <td>16507</td>\n",
       "      <td>モバマス</td>\n",
       "      <td>アイドルマスター</td>\n",
       "      <td>[文香, 文香, ちひろ, 文香, ちひろ, ちひろ, 文香, ちひろ, 文香, 文香, ち...</td>\n",
       "    </tr>\n",
       "    <tr>\n",
       "      <th>15873</th>\n",
       "      <td>16509</td>\n",
       "      <td>モバマス</td>\n",
       "      <td>ガールズ＆パンツァー</td>\n",
       "      <td>[エリカ, エリカ, エリカ, 夕美, 夕美, 夕美, 夕美, 夕美]</td>\n",
       "    </tr>\n",
       "    <tr>\n",
       "      <th>15996</th>\n",
       "      <td>16632</td>\n",
       "      <td>モバマス</td>\n",
       "      <td>艦これ</td>\n",
       "      <td>[満潮, 鳥海, 秋津洲, 鎮守府, 駆逐艦, 提督, 提督, 提督, 司令官, 鎮守府, ...</td>\n",
       "    </tr>\n",
       "    <tr>\n",
       "      <th>16120</th>\n",
       "      <td>16756</td>\n",
       "      <td>ラブライブ！</td>\n",
       "      <td>モバマス</td>\n",
       "      <td>[]</td>\n",
       "    </tr>\n",
       "    <tr>\n",
       "      <th>16144</th>\n",
       "      <td>16780</td>\n",
       "      <td>アイドルマスター</td>\n",
       "      <td>モバマス</td>\n",
       "      <td>[絵理]</td>\n",
       "    </tr>\n",
       "    <tr>\n",
       "      <th>16385</th>\n",
       "      <td>17021</td>\n",
       "      <td>シュタインズ・ゲート</td>\n",
       "      <td>とある魔術の禁書目録</td>\n",
       "      <td>[上条当麻, 上条, 上条, 上条, 上条, 上条, 岡部, ダル, クリスティーナ, 上条...</td>\n",
       "    </tr>\n",
       "    <tr>\n",
       "      <th>16634</th>\n",
       "      <td>17270</td>\n",
       "      <td>モバマス</td>\n",
       "      <td>アイドルマスター</td>\n",
       "      <td>[雪歩, 雪歩]</td>\n",
       "    </tr>\n",
       "    <tr>\n",
       "      <th>16777</th>\n",
       "      <td>17413</td>\n",
       "      <td>アイドルマスター</td>\n",
       "      <td>モバマス</td>\n",
       "      <td>[茜, 茜, 茜, 茜, 茜, 茜, 茜, 茜, 茜, 茜, 茜, 茜, 茜, 茜, 美希,...</td>\n",
       "    </tr>\n",
       "    <tr>\n",
       "      <th>16814</th>\n",
       "      <td>17450</td>\n",
       "      <td>ラブライブ！</td>\n",
       "      <td>モバマス</td>\n",
       "      <td>[凛, 凛, 凛, 凛, 凛, 希, 凛, 凛, 凛, 希, 凛, 凛, 凛, 凛, 凛, ...</td>\n",
       "    </tr>\n",
       "    <tr>\n",
       "      <th>16826</th>\n",
       "      <td>17462</td>\n",
       "      <td>アイドルマスター</td>\n",
       "      <td>モバマス</td>\n",
       "      <td>[ちひろ, 楓, 楓, 楓, ちひろ, 楓, ちひろ, 楓, 楓, 瑞樹, ちひろ, ちひろ...</td>\n",
       "    </tr>\n",
       "    <tr>\n",
       "      <th>16865</th>\n",
       "      <td>17501</td>\n",
       "      <td>アイドルマスター</td>\n",
       "      <td>モバマス</td>\n",
       "      <td>[比奈, 比奈, 比奈, 比奈, 比奈, 比奈, 比奈, 比奈, 比奈, 比奈, 比奈, 比...</td>\n",
       "    </tr>\n",
       "    <tr>\n",
       "      <th>17053</th>\n",
       "      <td>17689</td>\n",
       "      <td>アイドルマスター</td>\n",
       "      <td>モバマス</td>\n",
       "      <td>[武内P, 美嘉, 莉, 莉, 美嘉, 莉, 裕子, 楓, 千枝, 千枝, 千枝, 千枝, ...</td>\n",
       "    </tr>\n",
       "    <tr>\n",
       "      <th>17134</th>\n",
       "      <td>17770</td>\n",
       "      <td>ガールズ＆パンツァー</td>\n",
       "      <td>艦これ</td>\n",
       "      <td>[鎮守府, 提督, 鎮守府, 艦娘, 提督, 提督, 提督, 提督, 提督, 提督, 提督,...</td>\n",
       "    </tr>\n",
       "    <tr>\n",
       "      <th>17218</th>\n",
       "      <td>17854</td>\n",
       "      <td>ラブライブ！</td>\n",
       "      <td>モバマス</td>\n",
       "      <td>[]</td>\n",
       "    </tr>\n",
       "    <tr>\n",
       "      <th>17265</th>\n",
       "      <td>17901</td>\n",
       "      <td>アイドルマスター</td>\n",
       "      <td>モバマス</td>\n",
       "      <td>[律子, 律子, 美嘉, 美嘉, 美嘉, 莉, 美嘉, 加, 蓮, 美嘉, 美嘉, 美嘉, ...</td>\n",
       "    </tr>\n",
       "    <tr>\n",
       "      <th>17289</th>\n",
       "      <td>17925</td>\n",
       "      <td>アイドルマスター</td>\n",
       "      <td>モバマス</td>\n",
       "      <td>[]</td>\n",
       "    </tr>\n",
       "    <tr>\n",
       "      <th>17601</th>\n",
       "      <td>18320</td>\n",
       "      <td>ラブライブ！</td>\n",
       "      <td>モバマス</td>\n",
       "      <td>[希, 希, フラッグ, 希]</td>\n",
       "    </tr>\n",
       "    <tr>\n",
       "      <th>17693</th>\n",
       "      <td>18412</td>\n",
       "      <td>モバマス</td>\n",
       "      <td>ラブライブ！</td>\n",
       "      <td>[幸子, 鈴, 華, 華, 果, 剛, 鈴]</td>\n",
       "    </tr>\n",
       "    <tr>\n",
       "      <th>17771</th>\n",
       "      <td>18490</td>\n",
       "      <td>艦これ</td>\n",
       "      <td>モバマス</td>\n",
       "      <td>[不知火, 不知火, 不知火, 不知火, 不知火, 不知火, 不知火, 不知火, 雪風, 不...</td>\n",
       "    </tr>\n",
       "    <tr>\n",
       "      <th>17849</th>\n",
       "      <td>18568</td>\n",
       "      <td>ラブライブ！</td>\n",
       "      <td>モバマス</td>\n",
       "      <td>[]</td>\n",
       "    </tr>\n",
       "    <tr>\n",
       "      <th>18070</th>\n",
       "      <td>18789</td>\n",
       "      <td>モバマス</td>\n",
       "      <td>アイドルマスター</td>\n",
       "      <td>[杏, 杏, 杏, 杏, 杏, 杏, 杏, 杏, 杏, 杏, 杏, 杏, 杏, 杏, 杏, ...</td>\n",
       "    </tr>\n",
       "    <tr>\n",
       "      <th>18084</th>\n",
       "      <td>18803</td>\n",
       "      <td>ラブライブ！</td>\n",
       "      <td>モバマス</td>\n",
       "      <td>[凛, 凛, 凛, 凛, 凛, 凛, 凛, 凛, 凛, 凛, 凛, 凛, 凛, 凛, 凛, ...</td>\n",
       "    </tr>\n",
       "    <tr>\n",
       "      <th>18101</th>\n",
       "      <td>18820</td>\n",
       "      <td>ガールズ＆パンツァー</td>\n",
       "      <td>モバマス</td>\n",
       "      <td>[]</td>\n",
       "    </tr>\n",
       "    <tr>\n",
       "      <th>18299</th>\n",
       "      <td>19018</td>\n",
       "      <td>アイドルマスター</td>\n",
       "      <td>咲</td>\n",
       "      <td>[咲ちゃん, 咲, 咲, 卯月, 咲, 咲, 咲ちゃん, 咲ちゃん, 咲ちゃん, 咲ちゃん,...</td>\n",
       "    </tr>\n",
       "    <tr>\n",
       "      <th>18303</th>\n",
       "      <td>19022</td>\n",
       "      <td>モバマス</td>\n",
       "      <td>アイドルマスター</td>\n",
       "      <td>[春香, 千早, 春香, 千早, 春香, 春香, 千早, 春香, 千早, 春香, 千早, 春...</td>\n",
       "    </tr>\n",
       "    <tr>\n",
       "      <th>18494</th>\n",
       "      <td>19273</td>\n",
       "      <td>ラブライブ！</td>\n",
       "      <td>モバマス</td>\n",
       "      <td>[莉, 莉, 莉, 莉, 莉, 莉, 莉, 莉, 莉, 莉, 莉, 莉, 莉, 莉, 莉, ...</td>\n",
       "    </tr>\n",
       "    <tr>\n",
       "      <th>18529</th>\n",
       "      <td>19308</td>\n",
       "      <td>アイドルマスター</td>\n",
       "      <td>モバマス</td>\n",
       "      <td>[柚, 柚, 未央, 柚, 未央, 未央, 卯月, 凛, 柚, 未央, 卯月, 凛, 卯月,...</td>\n",
       "    </tr>\n",
       "    <tr>\n",
       "      <th>18561</th>\n",
       "      <td>19340</td>\n",
       "      <td>ラブライブ！</td>\n",
       "      <td>アイドルマスター</td>\n",
       "      <td>[穂, 乃, 果, 穂, 乃, 果, 穂, 乃, 果, 穂, 乃, 果, 穂, 乃, 果, ...</td>\n",
       "    </tr>\n",
       "    <tr>\n",
       "      <th>18596</th>\n",
       "      <td>19375</td>\n",
       "      <td>艦これ</td>\n",
       "      <td>モバマス</td>\n",
       "      <td>[荒潮, 朝潮, 荒潮, 朝潮, 荒潮, 荒潮, 朝潮, 荒潮, 朝潮, 朝潮, 荒潮, 荒...</td>\n",
       "    </tr>\n",
       "  </tbody>\n",
       "</table>\n",
       "</div>"
      ],
      "text/plain": [
       "       article_id category_name        pred  \\\n",
       "15551       16187      アイドルマスター        モバマス   \n",
       "15629       16265             咲        モバマス   \n",
       "15871       16507          モバマス    アイドルマスター   \n",
       "15873       16509          モバマス  ガールズ＆パンツァー   \n",
       "15996       16632          モバマス         艦これ   \n",
       "16120       16756        ラブライブ！        モバマス   \n",
       "16144       16780      アイドルマスター        モバマス   \n",
       "16385       17021    シュタインズ・ゲート  とある魔術の禁書目録   \n",
       "16634       17270          モバマス    アイドルマスター   \n",
       "16777       17413      アイドルマスター        モバマス   \n",
       "16814       17450        ラブライブ！        モバマス   \n",
       "16826       17462      アイドルマスター        モバマス   \n",
       "16865       17501      アイドルマスター        モバマス   \n",
       "17053       17689      アイドルマスター        モバマス   \n",
       "17134       17770    ガールズ＆パンツァー         艦これ   \n",
       "17218       17854        ラブライブ！        モバマス   \n",
       "17265       17901      アイドルマスター        モバマス   \n",
       "17289       17925      アイドルマスター        モバマス   \n",
       "17601       18320        ラブライブ！        モバマス   \n",
       "17693       18412          モバマス      ラブライブ！   \n",
       "17771       18490           艦これ        モバマス   \n",
       "17849       18568        ラブライブ！        モバマス   \n",
       "18070       18789          モバマス    アイドルマスター   \n",
       "18084       18803        ラブライブ！        モバマス   \n",
       "18101       18820    ガールズ＆パンツァー        モバマス   \n",
       "18299       19018      アイドルマスター           咲   \n",
       "18303       19022          モバマス    アイドルマスター   \n",
       "18494       19273        ラブライブ！        モバマス   \n",
       "18529       19308      アイドルマスター        モバマス   \n",
       "18561       19340        ラブライブ！    アイドルマスター   \n",
       "18596       19375           艦これ        モバマス   \n",
       "\n",
       "                                           feature_words  \n",
       "15551  [凛, モバ, 凛, 律子, 凛, モバ, 凛, モバ, 凛, モバ, 凛, モバ, モバ,...  \n",
       "15629  [大星, 大星, 大星, 大星, 大星, 大星, 大星, 大星, 絹, 大星, 大星, 大星...  \n",
       "15871  [文香, 文香, ちひろ, 文香, ちひろ, ちひろ, 文香, ちひろ, 文香, 文香, ち...  \n",
       "15873                [エリカ, エリカ, エリカ, 夕美, 夕美, 夕美, 夕美, 夕美]  \n",
       "15996  [満潮, 鳥海, 秋津洲, 鎮守府, 駆逐艦, 提督, 提督, 提督, 司令官, 鎮守府, ...  \n",
       "16120                                                 []  \n",
       "16144                                               [絵理]  \n",
       "16385  [上条当麻, 上条, 上条, 上条, 上条, 上条, 岡部, ダル, クリスティーナ, 上条...  \n",
       "16634                                           [雪歩, 雪歩]  \n",
       "16777  [茜, 茜, 茜, 茜, 茜, 茜, 茜, 茜, 茜, 茜, 茜, 茜, 茜, 茜, 美希,...  \n",
       "16814  [凛, 凛, 凛, 凛, 凛, 希, 凛, 凛, 凛, 希, 凛, 凛, 凛, 凛, 凛, ...  \n",
       "16826  [ちひろ, 楓, 楓, 楓, ちひろ, 楓, ちひろ, 楓, 楓, 瑞樹, ちひろ, ちひろ...  \n",
       "16865  [比奈, 比奈, 比奈, 比奈, 比奈, 比奈, 比奈, 比奈, 比奈, 比奈, 比奈, 比...  \n",
       "17053  [武内P, 美嘉, 莉, 莉, 美嘉, 莉, 裕子, 楓, 千枝, 千枝, 千枝, 千枝, ...  \n",
       "17134  [鎮守府, 提督, 鎮守府, 艦娘, 提督, 提督, 提督, 提督, 提督, 提督, 提督,...  \n",
       "17218                                                 []  \n",
       "17265  [律子, 律子, 美嘉, 美嘉, 美嘉, 莉, 美嘉, 加, 蓮, 美嘉, 美嘉, 美嘉, ...  \n",
       "17289                                                 []  \n",
       "17601                                    [希, 希, フラッグ, 希]  \n",
       "17693                             [幸子, 鈴, 華, 華, 果, 剛, 鈴]  \n",
       "17771  [不知火, 不知火, 不知火, 不知火, 不知火, 不知火, 不知火, 不知火, 雪風, 不...  \n",
       "17849                                                 []  \n",
       "18070  [杏, 杏, 杏, 杏, 杏, 杏, 杏, 杏, 杏, 杏, 杏, 杏, 杏, 杏, 杏, ...  \n",
       "18084  [凛, 凛, 凛, 凛, 凛, 凛, 凛, 凛, 凛, 凛, 凛, 凛, 凛, 凛, 凛, ...  \n",
       "18101                                                 []  \n",
       "18299  [咲ちゃん, 咲, 咲, 卯月, 咲, 咲, 咲ちゃん, 咲ちゃん, 咲ちゃん, 咲ちゃん,...  \n",
       "18303  [春香, 千早, 春香, 千早, 春香, 春香, 千早, 春香, 千早, 春香, 千早, 春...  \n",
       "18494  [莉, 莉, 莉, 莉, 莉, 莉, 莉, 莉, 莉, 莉, 莉, 莉, 莉, 莉, 莉, ...  \n",
       "18529  [柚, 柚, 未央, 柚, 未央, 未央, 卯月, 凛, 柚, 未央, 卯月, 凛, 卯月,...  \n",
       "18561  [穂, 乃, 果, 穂, 乃, 果, 穂, 乃, 果, 穂, 乃, 果, 穂, 乃, 果, ...  \n",
       "18596  [荒潮, 朝潮, 荒潮, 朝潮, 荒潮, 荒潮, 朝潮, 荒潮, 朝潮, 朝潮, 荒潮, 荒...  "
      ]
     },
     "execution_count": 45,
     "metadata": {},
     "output_type": "execute_result"
    }
   ],
   "source": [
    "test_df = easy_df.ix[test_labels.index]\n",
    "test_df['pred'] = category_df.category_name[pred].values\n",
    "\n",
    "tmp = test_labels != pred\n",
    "test_df.ix[tmp[tmp == True].index][['article_id', 'category_name', 'pred', 'feature_words']]"
   ]
  },
  {
   "cell_type": "markdown",
   "metadata": {},
   "source": [
    "## 考察"
   ]
  },
  {
   "cell_type": "markdown",
   "metadata": {},
   "source": [
    "分類に失敗したものには、以下のパターンがあるようだ。（番号はarticle_id）\n",
    "\n",
    "1. そもそも正解ラベルが間違っている（だいたいアイマス <-> モバマス）\n",
    "  - 16632\n",
    "  - 17270\n",
    "  - 17413\n",
    "  - 17462\n",
    "  - 17689\n",
    "  - 17770\n",
    "  - 17901\n",
    "  - 17925\n",
    "  - 19018\n",
    "  - 19022\n",
    "  - 19308\n",
    "2. 正解が曖昧（複数作品のクロスものなど）\n",
    "  - 17021\n",
    "  - 17501\n",
    "3. 名前が似ているキャラクター\n",
    "  - 16507\n",
    "  - 16750\n",
    "  - 17450\n",
    "  - 18641\n",
    "  - 18803\n",
    "  - 19018\n",
    "4. 台本形式じゃないため、名前がうまく取得できなかった\n",
    "  - 16756\n",
    "5. マイナーなキャラクターのSSだった\n",
    "  - 16211\n",
    "  - 16265\n",
    "  - 16780\n",
    "  - 17854\n",
    "  - 18412\n",
    "  - 18490\n",
    "  - 18820\n",
    "  - 19273\n",
    "  - 19375\n",
    "6. キャラクターの表記が本名じゃない\n",
    "  - 18320\n",
    "7. 形態素解析ができない名前のキャラ（にこ、真姫、穂乃果）\n",
    "  - 18568\n",
    "  - 19340"
   ]
  },
  {
   "cell_type": "markdown",
   "metadata": {},
   "source": [
    "#### 思ったこと\n",
    "\n",
    "- よくわからんものはモバマス、みたいな感じ\n",
    "- 正解ラベル間違いすぎぃ！\n",
    "- 3の理由のものは頑張って正しく分類できるようになりたい（2次の特徴量とか使えばいけるかも）\n",
    "- 5,6は機械学習では無理かも\n",
    "- 7はMecabの辞書次第"
   ]
  },
  {
   "cell_type": "markdown",
   "metadata": {},
   "source": [
    "## まとめ\n",
    "\n",
    "- だいたい98.7%くらいの正答率で分類できたよ！（人の方が精度はわずかに上）\n",
    "- 正解ラベルが正しければ、99.2%くらいの精度かな？\n",
    "- 特徴量tf-idf値の大きい名詞（基本的にはキャラクターの名前になる）を利用"
   ]
  },
  {
   "cell_type": "markdown",
   "metadata": {},
   "source": [
    "## これから\n",
    "\n",
    "- Mecabの辞書に少しキャラの名前足してみたい"
   ]
  }
 ],
 "metadata": {
  "kernelspec": {
   "display_name": "Python 3",
   "language": "python",
   "name": "python3"
  },
  "language_info": {
   "codemirror_mode": {
    "name": "ipython",
    "version": 3
   },
   "file_extension": ".py",
   "mimetype": "text/x-python",
   "name": "python",
   "nbconvert_exporter": "python",
   "pygments_lexer": "ipython3",
   "version": "3.5.1"
  }
 },
 "nbformat": 4,
 "nbformat_minor": 0
}
