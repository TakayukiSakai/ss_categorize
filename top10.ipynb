{
 "cells": [
  {
   "cell_type": "markdown",
   "metadata": {},
   "source": [
    "# SS記事の自動カテゴリ分類\n",
    "\n",
    "運営しているSSまとめサイトで、それぞれのSSのカテゴリ付けを自動化できないか検証してみた。\n",
    "\n",
    "使用したデータは、DBにクエリを投げてダンプしたもの。\n",
    "\n",
    "このノートブックでは、それぞれの記事の頻出名詞top10を特徴量として分類する。"
   ]
  },
  {
   "cell_type": "markdown",
   "metadata": {},
   "source": [
    "### 環境\n",
    "\n",
    "- Ubuntu 14.04\n",
    "- python3.5"
   ]
  },
  {
   "cell_type": "code",
   "execution_count": 1,
   "metadata": {
    "collapsed": false
   },
   "outputs": [],
   "source": [
    "%matplotlib inline\n",
    "import numpy as np\n",
    "import pandas as pd\n",
    "from bs4 import BeautifulSoup\n",
    "from joblib import Parallel, delayed\n",
    "import multiprocessing\n",
    "from collections import Counter\n",
    "import re\n",
    "\n",
    "from sklearn import cross_validation\n",
    "from sklearn.ensemble import RandomForestClassifier\n",
    "from sklearn.linear_model import SGDClassifier"
   ]
  },
  {
   "cell_type": "code",
   "execution_count": 2,
   "metadata": {
    "collapsed": true
   },
   "outputs": [],
   "source": [
    "# pandas.DataFrame.apply関数の並列版\n",
    "def applyParallel(dfGrouped, func, asDataFrame=False):\n",
    "    retLst = Parallel(n_jobs=multiprocessing.cpu_count())(delayed(func)(field) for field in dfGrouped)\n",
    "    if asDataFrame:\n",
    "        return pd.DataFrame(retLst)\n",
    "    else:\n",
    "        return pd.Series(retLst)"
   ]
  },
  {
   "cell_type": "markdown",
   "metadata": {},
   "source": [
    "## データ理解"
   ]
  },
  {
   "cell_type": "markdown",
   "metadata": {},
   "source": [
    "データの読み込み"
   ]
  },
  {
   "cell_type": "code",
   "execution_count": 3,
   "metadata": {
    "collapsed": false,
    "scrolled": true
   },
   "outputs": [
    {
     "name": "stderr",
     "output_type": "stream",
     "text": [
      "/usr/local/lib/python3.5/site-packages/ipykernel/__main__.py:2: ParserWarning: Falling back to the 'python' engine because the 'c' engine does not support regex separators (separators > 1 char and different from '\\s+' are interpreted as regex); you can avoid this warning by specifying engine='python'.\n",
      "  from ipykernel import kernelapp as app\n"
     ]
    }
   ],
   "source": [
    "# セパレータがカンマだとうまく読み込めなかったので、独自セパレータを使用\n",
    "df = pd.read_csv('./articles.csv', sep='PNDFAKFD', encoding='utf-8')"
   ]
  },
  {
   "cell_type": "code",
   "execution_count": 4,
   "metadata": {
    "collapsed": false,
    "scrolled": true
   },
   "outputs": [
    {
     "data": {
      "text/html": [
       "<div>\n",
       "<table border=\"1\" class=\"dataframe\">\n",
       "  <thead>\n",
       "    <tr style=\"text-align: right;\">\n",
       "      <th></th>\n",
       "      <th>article_id</th>\n",
       "      <th>category_id</th>\n",
       "      <th>category_name</th>\n",
       "      <th>html</th>\n",
       "    </tr>\n",
       "  </thead>\n",
       "  <tbody>\n",
       "    <tr>\n",
       "      <th>0</th>\n",
       "      <td>1</td>\n",
       "      <td>3.0</td>\n",
       "      <td>艦これ</td>\n",
       "      <td>&lt;dd&gt;提督「(俺はこの鎮守府の提督)」 &lt;br&gt;  &lt;br&gt; 提督「(深海棲艦という、謎の...</td>\n",
       "    </tr>\n",
       "    <tr>\n",
       "      <th>1</th>\n",
       "      <td>2</td>\n",
       "      <td>3.0</td>\n",
       "      <td>艦これ</td>\n",
       "      <td>&lt;dd&gt;時雨「今日は雨だね、提督」 &lt;br&gt;  &lt;br&gt; 時雨「そういえば」 &lt;br&gt;  &lt;...</td>\n",
       "    </tr>\n",
       "    <tr>\n",
       "      <th>2</th>\n",
       "      <td>3</td>\n",
       "      <td>NaN</td>\n",
       "      <td>NaN</td>\n",
       "      <td>&lt;dd&gt;女騎士「何！？オークとオーガは似たような種族ではないのか！？」 &lt;br&gt;  &lt;br&gt;...</td>\n",
       "    </tr>\n",
       "    <tr>\n",
       "      <th>3</th>\n",
       "      <td>4</td>\n",
       "      <td>2.0</td>\n",
       "      <td>男女</td>\n",
       "      <td>&lt;dd&gt; 幼「約束は８時でしょ？」&lt;br&gt;&lt;br&gt;男「悪かったよ、ちょっと仕事がな…」&lt;br...</td>\n",
       "    </tr>\n",
       "    <tr>\n",
       "      <th>4</th>\n",
       "      <td>5</td>\n",
       "      <td>11.0</td>\n",
       "      <td>化物語</td>\n",
       "      <td>&lt;dd&gt; &lt;br&gt; ・アイドルマスター・ディアリースターズと物語シリーズのクロスです。 &lt;b...</td>\n",
       "    </tr>\n",
       "    <tr>\n",
       "      <th>5</th>\n",
       "      <td>6</td>\n",
       "      <td>NaN</td>\n",
       "      <td>NaN</td>\n",
       "      <td>&lt;dd&gt; &lt;br&gt; メリオダス・ギル坊「じゃんけんほい！！！」 &lt;br&gt;  &lt;br&gt;  &lt;b...</td>\n",
       "    </tr>\n",
       "    <tr>\n",
       "      <th>6</th>\n",
       "      <td>7</td>\n",
       "      <td>NaN</td>\n",
       "      <td>NaN</td>\n",
       "      <td>&lt;dd&gt; &lt;br&gt;  &lt;br&gt;  &lt;br&gt;  &lt;br&gt;  &lt;br&gt; ｻﾞｧｰｰｰｰｰｰｰ･･...</td>\n",
       "    </tr>\n",
       "    <tr>\n",
       "      <th>7</th>\n",
       "      <td>8</td>\n",
       "      <td>10.0</td>\n",
       "      <td>モバマス</td>\n",
       "      <td>&lt;dd&gt;秋風温泉ガチャをネタ元にしたＳＳです &lt;br&gt; 内容はぶっちゃけ蘭子かな子芳乃とのハ...</td>\n",
       "    </tr>\n",
       "    <tr>\n",
       "      <th>8</th>\n",
       "      <td>9</td>\n",
       "      <td>10.0</td>\n",
       "      <td>モバマス</td>\n",
       "      <td>&lt;dd&gt;冬ということは忘れてください &lt;br&gt;  &lt;br&gt;  &lt;br&gt;  &lt;br&gt; 「「「た...</td>\n",
       "    </tr>\n",
       "    <tr>\n",
       "      <th>9</th>\n",
       "      <td>10</td>\n",
       "      <td>NaN</td>\n",
       "      <td>NaN</td>\n",
       "      <td>&lt;dd class=\"net\"&gt; 俺「よろしく！うわぁー、ワクワクするなぁ！」 &lt;br&gt; &lt;...</td>\n",
       "    </tr>\n",
       "  </tbody>\n",
       "</table>\n",
       "</div>"
      ],
      "text/plain": [
       "   article_id  category_id category_name  \\\n",
       "0           1          3.0           艦これ   \n",
       "1           2          3.0           艦これ   \n",
       "2           3          NaN           NaN   \n",
       "3           4          2.0            男女   \n",
       "4           5         11.0           化物語   \n",
       "5           6          NaN           NaN   \n",
       "6           7          NaN           NaN   \n",
       "7           8         10.0          モバマス   \n",
       "8           9         10.0          モバマス   \n",
       "9          10          NaN           NaN   \n",
       "\n",
       "                                                html  \n",
       "0  <dd>提督「(俺はこの鎮守府の提督)」 <br>  <br> 提督「(深海棲艦という、謎の...  \n",
       "1  <dd>時雨「今日は雨だね、提督」 <br>  <br> 時雨「そういえば」 <br>  <...  \n",
       "2  <dd>女騎士「何！？オークとオーガは似たような種族ではないのか！？」 <br>  <br>...  \n",
       "3  <dd> 幼「約束は８時でしょ？」<br><br>男「悪かったよ、ちょっと仕事がな…」<br...  \n",
       "4  <dd> <br> ・アイドルマスター・ディアリースターズと物語シリーズのクロスです。 <b...  \n",
       "5  <dd> <br> メリオダス・ギル坊「じゃんけんほい！！！」 <br>  <br>  <b...  \n",
       "6  <dd> <br>  <br>  <br>  <br>  <br> ｻﾞｧｰｰｰｰｰｰｰ･･...  \n",
       "7  <dd>秋風温泉ガチャをネタ元にしたＳＳです <br> 内容はぶっちゃけ蘭子かな子芳乃とのハ...  \n",
       "8  <dd>冬ということは忘れてください <br>  <br>  <br>  <br> 「「「た...  \n",
       "9  <dd class=\"net\"> 俺「よろしく！うわぁー、ワクワクするなぁ！」 <br> <...  "
      ]
     },
     "execution_count": 4,
     "metadata": {},
     "output_type": "execute_result"
    }
   ],
   "source": [
    "df[:10]"
   ]
  },
  {
   "cell_type": "markdown",
   "metadata": {},
   "source": [
    "カテゴリIDとカテゴリ名の対応付け"
   ]
  },
  {
   "cell_type": "code",
   "execution_count": 5,
   "metadata": {
    "collapsed": false
   },
   "outputs": [
    {
     "data": {
      "text/html": [
       "<div>\n",
       "<table border=\"1\" class=\"dataframe\">\n",
       "  <thead>\n",
       "    <tr style=\"text-align: right;\">\n",
       "      <th></th>\n",
       "      <th>category_name</th>\n",
       "    </tr>\n",
       "    <tr>\n",
       "      <th>category_id</th>\n",
       "      <th></th>\n",
       "    </tr>\n",
       "  </thead>\n",
       "  <tbody>\n",
       "    <tr>\n",
       "      <th>1</th>\n",
       "      <td>俺妹</td>\n",
       "    </tr>\n",
       "    <tr>\n",
       "      <th>2</th>\n",
       "      <td>男女</td>\n",
       "    </tr>\n",
       "    <tr>\n",
       "      <th>3</th>\n",
       "      <td>艦これ</td>\n",
       "    </tr>\n",
       "    <tr>\n",
       "      <th>4</th>\n",
       "      <td>とある魔術の禁書目録</td>\n",
       "    </tr>\n",
       "    <tr>\n",
       "      <th>5</th>\n",
       "      <td>兄妹・姉弟</td>\n",
       "    </tr>\n",
       "  </tbody>\n",
       "</table>\n",
       "</div>"
      ],
      "text/plain": [
       "            category_name\n",
       "category_id              \n",
       "1                      俺妹\n",
       "2                      男女\n",
       "3                     艦これ\n",
       "4              とある魔術の禁書目録\n",
       "5                   兄妹・姉弟"
      ]
     },
     "execution_count": 5,
     "metadata": {},
     "output_type": "execute_result"
    }
   ],
   "source": [
    "tmp_df = df[['category_id', 'category_name']].dropna()\n",
    "tmp_df.category_id = tmp_df.category_id.astype(int)\n",
    "\n",
    "category_df = tmp_df.groupby(['category_id']).agg(lambda x:x.value_counts().index[0])\n",
    "category_df[:5]"
   ]
  },
  {
   "cell_type": "code",
   "execution_count": 6,
   "metadata": {
    "collapsed": false,
    "scrolled": true
   },
   "outputs": [
    {
     "data": {
      "text/html": [
       "<div>\n",
       "<table border=\"1\" class=\"dataframe\">\n",
       "  <thead>\n",
       "    <tr style=\"text-align: right;\">\n",
       "      <th></th>\n",
       "      <th>article_id</th>\n",
       "    </tr>\n",
       "    <tr>\n",
       "      <th>category_name</th>\n",
       "      <th></th>\n",
       "    </tr>\n",
       "  </thead>\n",
       "  <tbody>\n",
       "    <tr>\n",
       "      <th>モバマス</th>\n",
       "      <td>4586</td>\n",
       "    </tr>\n",
       "    <tr>\n",
       "      <th>艦これ</th>\n",
       "      <td>1787</td>\n",
       "    </tr>\n",
       "    <tr>\n",
       "      <th>アイドルマスター</th>\n",
       "      <td>1642</td>\n",
       "    </tr>\n",
       "    <tr>\n",
       "      <th>俺ガイル</th>\n",
       "      <td>953</td>\n",
       "    </tr>\n",
       "    <tr>\n",
       "      <th>ラブライブ！</th>\n",
       "      <td>725</td>\n",
       "    </tr>\n",
       "    <tr>\n",
       "      <th>男女</th>\n",
       "      <td>695</td>\n",
       "    </tr>\n",
       "    <tr>\n",
       "      <th>シュタインズ・ゲート</th>\n",
       "      <td>461</td>\n",
       "    </tr>\n",
       "    <tr>\n",
       "      <th>勇者・魔王</th>\n",
       "      <td>388</td>\n",
       "    </tr>\n",
       "    <tr>\n",
       "      <th>咲</th>\n",
       "      <td>308</td>\n",
       "    </tr>\n",
       "    <tr>\n",
       "      <th>とある魔術の禁書目録</th>\n",
       "      <td>305</td>\n",
       "    </tr>\n",
       "    <tr>\n",
       "      <th>ゆるゆり</th>\n",
       "      <td>305</td>\n",
       "    </tr>\n",
       "    <tr>\n",
       "      <th>ガールズ＆パンツァー</th>\n",
       "      <td>267</td>\n",
       "    </tr>\n",
       "    <tr>\n",
       "      <th>ミリマス</th>\n",
       "      <td>253</td>\n",
       "    </tr>\n",
       "    <tr>\n",
       "      <th>まどかマギカ</th>\n",
       "      <td>251</td>\n",
       "    </tr>\n",
       "    <tr>\n",
       "      <th>兄妹・姉弟</th>\n",
       "      <td>239</td>\n",
       "    </tr>\n",
       "  </tbody>\n",
       "</table>\n",
       "</div>"
      ],
      "text/plain": [
       "               article_id\n",
       "category_name            \n",
       "モバマス                 4586\n",
       "艦これ                  1787\n",
       "アイドルマスター             1642\n",
       "俺ガイル                  953\n",
       "ラブライブ！                725\n",
       "男女                    695\n",
       "シュタインズ・ゲート            461\n",
       "勇者・魔王                 388\n",
       "咲                     308\n",
       "とある魔術の禁書目録            305\n",
       "ゆるゆり                  305\n",
       "ガールズ＆パンツァー            267\n",
       "ミリマス                  253\n",
       "まどかマギカ                251\n",
       "兄妹・姉弟                 239"
      ]
     },
     "execution_count": 6,
     "metadata": {},
     "output_type": "execute_result"
    }
   ],
   "source": [
    "count_each_category = df[['article_id', 'category_name']].groupby(['category_name']).agg('count').sort_values('article_id', ascending=False)\n",
    "count_each_category[:15]"
   ]
  },
  {
   "cell_type": "markdown",
   "metadata": {},
   "source": [
    "モバマス・艦これが多い"
   ]
  },
  {
   "cell_type": "markdown",
   "metadata": {},
   "source": [
    "## データ整形"
   ]
  },
  {
   "cell_type": "markdown",
   "metadata": {},
   "source": [
    "まずは記事数が多くて、かつ分類しやすそうなカテゴリだけ選んで試してみる。\n",
    "\n",
    "(ex. 「男女」と「兄妹・姉弟」などは分類しにくそうなので除外）"
   ]
  },
  {
   "cell_type": "code",
   "execution_count": 7,
   "metadata": {
    "collapsed": false
   },
   "outputs": [
    {
     "name": "stdout",
     "output_type": "stream",
     "text": [
      "カテゴリー数: 10\n",
      "対象記事数: 11339\n"
     ]
    }
   ],
   "source": [
    "easy_categories = ['モバマス', '艦これ', 'アイドルマスター', '俺ガイル', 'ラブライブ！', 'シュタインズ・ゲート', '咲', 'とある魔術の禁書目録', 'ゆるゆり', 'ガールズ＆パンツァー']\n",
    "easy_df = df[df.category_name.isin(easy_categories)]\n",
    "\n",
    "print('カテゴリー数: {}'.format(len(easy_categories)))\n",
    "print('対象記事数: {}'.format(easy_df.shape[0]))"
   ]
  },
  {
   "cell_type": "markdown",
   "metadata": {},
   "source": [
    "BeautifulSoupでhtmlタグとurlを除去。\n",
    "8コアをフルに使っても2分くらいかかる。"
   ]
  },
  {
   "cell_type": "code",
   "execution_count": 8,
   "metadata": {
    "collapsed": false,
    "scrolled": true
   },
   "outputs": [
    {
     "name": "stderr",
     "output_type": "stream",
     "text": [
      "/usr/local/lib/python3.5/site-packages/ipykernel/__main__.py:5: SettingWithCopyWarning: \n",
      "A value is trying to be set on a copy of a slice from a DataFrame.\n",
      "Try using .loc[row_indexer,col_indexer] = value instead\n",
      "\n",
      "See the caveats in the documentation: http://pandas.pydata.org/pandas-docs/stable/indexing.html#indexing-view-versus-copy\n"
     ]
    },
    {
     "data": {
      "text/html": [
       "<div>\n",
       "<table border=\"1\" class=\"dataframe\">\n",
       "  <thead>\n",
       "    <tr style=\"text-align: right;\">\n",
       "      <th></th>\n",
       "      <th>article_id</th>\n",
       "      <th>category_id</th>\n",
       "      <th>category_name</th>\n",
       "      <th>text</th>\n",
       "    </tr>\n",
       "  </thead>\n",
       "  <tbody>\n",
       "    <tr>\n",
       "      <th>0</th>\n",
       "      <td>1</td>\n",
       "      <td>3</td>\n",
       "      <td>艦これ</td>\n",
       "      <td>提督「(俺はこの鎮守府の提督)」   提督「(深海棲艦という、謎の敵から海を守るため)」  ...</td>\n",
       "    </tr>\n",
       "    <tr>\n",
       "      <th>1</th>\n",
       "      <td>2</td>\n",
       "      <td>3</td>\n",
       "      <td>艦これ</td>\n",
       "      <td>時雨「今日は雨だね、提督」   時雨「そういえば」   時雨「レイテ沖のときも雨が降っていた...</td>\n",
       "    </tr>\n",
       "    <tr>\n",
       "      <th>7</th>\n",
       "      <td>8</td>\n",
       "      <td>10</td>\n",
       "      <td>モバマス</td>\n",
       "      <td>秋風温泉ガチャをネタ元にしたＳＳです  内容はぶっちゃけ蘭子かな子芳乃とのハーレムエロなんで...</td>\n",
       "    </tr>\n",
       "    <tr>\n",
       "      <th>8</th>\n",
       "      <td>9</td>\n",
       "      <td>10</td>\n",
       "      <td>モバマス</td>\n",
       "      <td>冬ということは忘れてください     「「「ただいまー！！」」」   P「おう　みんなおかえ...</td>\n",
       "    </tr>\n",
       "    <tr>\n",
       "      <th>11</th>\n",
       "      <td>12</td>\n",
       "      <td>3</td>\n",
       "      <td>艦これ</td>\n",
       "      <td>提督「珍しいな、溜息なんてついて」   那珂「あっ、提督！　たたた溜息なんてついてないよ！？...</td>\n",
       "    </tr>\n",
       "    <tr>\n",
       "      <th>12</th>\n",
       "      <td>13</td>\n",
       "      <td>9</td>\n",
       "      <td>アイドルマスター</td>\n",
       "      <td>＿＿＿＿＿＿＿＿＿＿＿＿７６５プロ　事務所   仕事終わりの事務所にやよい、真、響、春香、美...</td>\n",
       "    </tr>\n",
       "    <tr>\n",
       "      <th>15</th>\n",
       "      <td>16</td>\n",
       "      <td>3</td>\n",
       "      <td>艦これ</td>\n",
       "      <td>【加賀の場合】     「提督、失礼します」   「あら……寝ているの？」   「最近忙しか...</td>\n",
       "    </tr>\n",
       "    <tr>\n",
       "      <th>18</th>\n",
       "      <td>19</td>\n",
       "      <td>3</td>\n",
       "      <td>艦これ</td>\n",
       "      <td>提督の第一印象？    　……提督だとは思わなかった、ですね。    　ふざけた芸人...</td>\n",
       "    </tr>\n",
       "    <tr>\n",
       "      <th>19</th>\n",
       "      <td>20</td>\n",
       "      <td>3</td>\n",
       "      <td>艦これ</td>\n",
       "      <td>提督「(雲龍がこの鎮守府に来てくれて)」   提督「(しばらく経った)」   提督「(今では...</td>\n",
       "    </tr>\n",
       "    <tr>\n",
       "      <th>20</th>\n",
       "      <td>21</td>\n",
       "      <td>9</td>\n",
       "      <td>アイドルマスター</td>\n",
       "      <td>\"5\"     \"4\"     千早「プロデューサー、いよいよですね」     \"3\"   ...</td>\n",
       "    </tr>\n",
       "  </tbody>\n",
       "</table>\n",
       "</div>"
      ],
      "text/plain": [
       "    article_id  category_id category_name  \\\n",
       "0            1            3           艦これ   \n",
       "1            2            3           艦これ   \n",
       "7            8           10          モバマス   \n",
       "8            9           10          モバマス   \n",
       "11          12            3           艦これ   \n",
       "12          13            9      アイドルマスター   \n",
       "15          16            3           艦これ   \n",
       "18          19            3           艦これ   \n",
       "19          20            3           艦これ   \n",
       "20          21            9      アイドルマスター   \n",
       "\n",
       "                                                 text  \n",
       "0   提督「(俺はこの鎮守府の提督)」   提督「(深海棲艦という、謎の敵から海を守るため)」  ...  \n",
       "1   時雨「今日は雨だね、提督」   時雨「そういえば」   時雨「レイテ沖のときも雨が降っていた...  \n",
       "7   秋風温泉ガチャをネタ元にしたＳＳです  内容はぶっちゃけ蘭子かな子芳乃とのハーレムエロなんで...  \n",
       "8   冬ということは忘れてください     「「「ただいまー！！」」」   P「おう　みんなおかえ...  \n",
       "11  提督「珍しいな、溜息なんてついて」   那珂「あっ、提督！　たたた溜息なんてついてないよ！？...  \n",
       "12  ＿＿＿＿＿＿＿＿＿＿＿＿７６５プロ　事務所   仕事終わりの事務所にやよい、真、響、春香、美...  \n",
       "15  【加賀の場合】     「提督、失礼します」   「あら……寝ているの？」   「最近忙しか...  \n",
       "18     　提督の第一印象？    　……提督だとは思わなかった、ですね。    　ふざけた芸人...  \n",
       "19  提督「(雲龍がこの鎮守府に来てくれて)」   提督「(しばらく経った)」   提督「(今では...  \n",
       "20  \"5\"     \"4\"     千早「プロデューサー、いよいよですね」     \"3\"   ...  "
      ]
     },
     "execution_count": 8,
     "metadata": {},
     "output_type": "execute_result"
    }
   ],
   "source": [
    "def extract_text(html):\n",
    "    text = BeautifulSoup(html, \"html.parser\").getText() # htmlタグを除去\n",
    "    return re.sub(r'https?://[^\\s/$.?#].[^\\s]*', '', text) # urlを除去\n",
    "\n",
    "easy_df['text'] = applyParallel(easy_df.html, extract_text).values\n",
    "\n",
    "easy_df = easy_df.drop('html', axis=1)\n",
    "easy_df.category_id = easy_df.category_id.astype(int)\n",
    "easy_df[:10]"
   ]
  },
  {
   "cell_type": "markdown",
   "metadata": {},
   "source": [
    "## 特徴量抽出\n",
    "\n",
    "SSは以下のような台本形式のものが多いので、頻出する名詞を特徴量とすればうまく分類できるはず。\n",
    "\n",
    "```\n",
    "Ｐ「それがよくわからないんだよ……おいしいのかな？」 \n",
    "\n",
    "凛「私に聞かれても……」 \n",
    "\n",
    "ちひろ「まぁまぁまぁ、そんなことより凛ちゃんはこれからレッスンですよね？」\n",
    "```"
   ]
  },
  {
   "cell_type": "code",
   "execution_count": 9,
   "metadata": {
    "collapsed": false,
    "scrolled": false
   },
   "outputs": [
    {
     "data": {
      "text/plain": [
       "'EOS\\n'"
      ]
     },
     "execution_count": 9,
     "metadata": {},
     "output_type": "execute_result"
    }
   ],
   "source": [
    "import MeCab\n",
    "tagger = MeCab.Tagger('-Ochasen -d /usr/lib/mecab/dic/mecab-ipadic-neologd')\n",
    "tagger.parse('') #　おまじない(mecabのバグ)"
   ]
  },
  {
   "cell_type": "markdown",
   "metadata": {},
   "source": [
    "Nelogd辞書がちゃんと機能しているかチェック"
   ]
  },
  {
   "cell_type": "code",
   "execution_count": 10,
   "metadata": {
    "collapsed": false
   },
   "outputs": [
    {
     "name": "stdout",
     "output_type": "stream",
     "text": [
      "新\t\t接頭詞,名詞接続,*,*,*,*,新,シン,シン\n",
      "辞書\t\t名詞,一般,*,*,*,*,辞書,ジショ,ジショ\n",
      "が\t\t助詞,格助詞,一般,*,*,*,が,ガ,ガ\n",
      "必要\t\t名詞,形容動詞語幹,*,*,*,*,必要,ヒツヨウ,ヒツヨー\n",
      "な\t\t助動詞,*,*,*,特殊・ダ,体言接続,だ,ナ,ナ\n",
      "の\t\t名詞,非自立,一般,*,*,*,の,ノ,ノ\n",
      "は\t\t助詞,係助詞,*,*,*,*,は,ハ,ワ\n",
      "、\t\t記号,読点,*,*,*,*,、,、,、\n",
      "なのは\t\t名詞,固有名詞,人名,一般,*,*,なのは,ナノハ,ナノハ\n",
      "みたい\t\t名詞,非自立,形容動詞語幹,*,*,*,みたい,ミタイ,ミタイ\n",
      "な\t\t助動詞,*,*,*,特殊・ダ,体言接続,だ,ナ,ナ\n",
      "ややこしい\t\t形容詞,自立,*,*,形容詞・イ段,基本形,ややこしい,ヤヤコシイ,ヤヤコシイ\n",
      "名前\t\t名詞,一般,*,*,*,*,名前,ナマエ,ナマエ\n",
      "が\t\t助詞,格助詞,一般,*,*,*,が,ガ,ガ\n",
      "入っ\t\t動詞,自立,*,*,五段・ラ行,連用タ接続,入る,ハイッ,ハイッ\n",
      "てる\t\t動詞,非自立,*,*,一段,基本形,てる,テル,テル\n",
      "とき\t\t名詞,非自立,副詞可能,*,*,*,とき,トキ,トキ\n"
     ]
    }
   ],
   "source": [
    "node = tagger.parseToNode(\"新辞書が必要なのは、なのはみたいなややこしい名前が入ってるとき\")\n",
    "node = node.next\n",
    "\n",
    "while node and node.surface:\n",
    "    print(\"{}\\t\\t{}\".format(node.surface, node.feature))\n",
    "    node = node.next"
   ]
  },
  {
   "cell_type": "markdown",
   "metadata": {},
   "source": [
    "それぞれの記事の頻出名詞TOP10を抽出"
   ]
  },
  {
   "cell_type": "code",
   "execution_count": 11,
   "metadata": {
    "collapsed": false,
    "scrolled": true
   },
   "outputs": [
    {
     "name": "stdout",
     "output_type": "stream",
     "text": [
      "艦これ\n",
      "['提督', '鳳翔', '鳳', '翔', 'あと', '店', 'ｺﾞﾄﾝ', '雪', 'サナトリウム', '鎌倉']\n",
      "\n",
      "モバマス\n",
      "['千秋', '智香', 'P', '力', 'ﾊﾞｯ', '千夏', 'アタシ', 'ｼﾞｰ', 'ー', '動き']\n",
      "\n",
      "アイドルマスター\n",
      "['千早', '黒井', '冬馬', 'カレー', 'ウィ', 'ー', '社長', 'あずさ', 'では', 'プロ']\n",
      "\n",
      "艦これ\n",
      "['提督', '曙', 'ー', 'レ', '扶桑', 'うむ', '木曾', 'ﾄﾞﾝ', '部屋', '味噌']\n",
      "\n",
      "とある魔術の禁書目録\n",
      "['上条', '土御門', 'カミ', 'オティヌス', '禁書', '美琴', 'アリサ', 'シャットアウラ', '裂', 'レッサー']\n",
      "\n"
     ]
    }
   ],
   "source": [
    "def get_word_counter(text):\n",
    "    word_array = []\n",
    "    \n",
    "    node = tagger.parseToNode(text)\n",
    "    while node:\n",
    "        split = node.feature.split(',')\n",
    "        if split[0] == '名詞' and (split[1] in ['一般', '固有名詞']):\n",
    "            word_array.append(node.surface)\n",
    "        node = node.next\n",
    "    return Counter(word_array)\n",
    "\n",
    "def get_feature_words(text):\n",
    "    common_words_and_count = get_word_counter(text).most_common(10)\n",
    "    return list(map(lambda e: e[0], common_words_and_count))\n",
    "\n",
    "for _, row in easy_df[10:15].iterrows():\n",
    "    print(row.category_name)\n",
    "    print(get_feature_words(row.text))\n",
    "    print()"
   ]
  },
  {
   "cell_type": "markdown",
   "metadata": {},
   "source": [
    "8コアで2分くらいかかる"
   ]
  },
  {
   "cell_type": "code",
   "execution_count": 12,
   "metadata": {
    "collapsed": false
   },
   "outputs": [
    {
     "data": {
      "text/html": [
       "<div>\n",
       "<table border=\"1\" class=\"dataframe\">\n",
       "  <thead>\n",
       "    <tr style=\"text-align: right;\">\n",
       "      <th></th>\n",
       "      <th>category_name</th>\n",
       "      <th>feature_words</th>\n",
       "    </tr>\n",
       "  </thead>\n",
       "  <tbody>\n",
       "    <tr>\n",
       "      <th>0</th>\n",
       "      <td>艦これ</td>\n",
       "      <td>[提督, 翔鶴, 憲兵, 鳳翔, ー, ふふ, 艦娘, 剛, 金, 一緒に]</td>\n",
       "    </tr>\n",
       "    <tr>\n",
       "      <th>1</th>\n",
       "      <td>艦これ</td>\n",
       "      <td>[扶桑, 榛名, 提督, 雷, 時雨, 姉, 雪風, 五月雨, 加賀, 曙]</td>\n",
       "    </tr>\n",
       "    <tr>\n",
       "      <th>7</th>\n",
       "      <td>モバマス</td>\n",
       "      <td>[Ｐ, 蘭子, かな子, 芳, 乃, ♥, ー, ｽﾞﾝｯ, そなた, ﾋﾞｸﾝｯ]</td>\n",
       "    </tr>\n",
       "    <tr>\n",
       "      <th>8</th>\n",
       "      <td>モバマス</td>\n",
       "      <td>[千秋, ザリガニ, P, ｸﾜｧ, 薫, 千佳, 仁, 奈, ー, 菲菲]</td>\n",
       "    </tr>\n",
       "    <tr>\n",
       "      <th>11</th>\n",
       "      <td>艦これ</td>\n",
       "      <td>[那珂, 提督, 野分, アイドル, 三日月, 扶桑, ちゃ, ふれ, 溜息, 娘]</td>\n",
       "    </tr>\n",
       "    <tr>\n",
       "      <th>12</th>\n",
       "      <td>アイドルマスター</td>\n",
       "      <td>[真, 響, 春香, P, 美希, チョコ, イカ, やよい, プロデューサー, トマト]</td>\n",
       "    </tr>\n",
       "    <tr>\n",
       "      <th>15</th>\n",
       "      <td>艦これ</td>\n",
       "      <td>[提督, 司令官, ゴーヤ, イムヤ, ハチ, イク, 北上, 青葉, ー, カレー]</td>\n",
       "    </tr>\n",
       "    <tr>\n",
       "      <th>18</th>\n",
       "      <td>艦これ</td>\n",
       "      <td>[提督, 赤城, 叢雲, 好きだ。, 鎮守府, 人間, 敵, 鈴谷, 加古, 大井]</td>\n",
       "    </tr>\n",
       "    <tr>\n",
       "      <th>19</th>\n",
       "      <td>艦これ</td>\n",
       "      <td>[提督, 雲龍, ｶｷｶｷ, 天城, ﾆｺ, ふふ, ぅ, ぇ, ﾁﾗ, ｽｯ]</td>\n",
       "    </tr>\n",
       "    <tr>\n",
       "      <th>20</th>\n",
       "      <td>アイドルマスター</td>\n",
       "      <td>[千早, P, 春香, プロデューサー, アイドル, 律子, 伊織, 月, 理想像, 社長]</td>\n",
       "    </tr>\n",
       "  </tbody>\n",
       "</table>\n",
       "</div>"
      ],
      "text/plain": [
       "   category_name                                   feature_words\n",
       "0            艦これ          [提督, 翔鶴, 憲兵, 鳳翔, ー, ふふ, 艦娘, 剛, 金, 一緒に]\n",
       "1            艦これ          [扶桑, 榛名, 提督, 雷, 時雨, 姉, 雪風, 五月雨, 加賀, 曙]\n",
       "7           モバマス      [Ｐ, 蘭子, かな子, 芳, 乃, ♥, ー, ｽﾞﾝｯ, そなた, ﾋﾞｸﾝｯ]\n",
       "8           モバマス          [千秋, ザリガニ, P, ｸﾜｧ, 薫, 千佳, 仁, 奈, ー, 菲菲]\n",
       "11           艦これ      [那珂, 提督, 野分, アイドル, 三日月, 扶桑, ちゃ, ふれ, 溜息, 娘]\n",
       "12      アイドルマスター   [真, 響, 春香, P, 美希, チョコ, イカ, やよい, プロデューサー, トマト]\n",
       "15           艦これ     [提督, 司令官, ゴーヤ, イムヤ, ハチ, イク, 北上, 青葉, ー, カレー]\n",
       "18           艦これ      [提督, 赤城, 叢雲, 好きだ。, 鎮守府, 人間, 敵, 鈴谷, 加古, 大井]\n",
       "19           艦これ        [提督, 雲龍, ｶｷｶｷ, 天城, ﾆｺ, ふふ, ぅ, ぇ, ﾁﾗ, ｽｯ]\n",
       "20      アイドルマスター  [千早, P, 春香, プロデューサー, アイドル, 律子, 伊織, 月, 理想像, 社長]"
      ]
     },
     "execution_count": 12,
     "metadata": {},
     "output_type": "execute_result"
    }
   ],
   "source": [
    "easy_df['feature_words'] = applyParallel(easy_df.text, get_feature_words).values\n",
    "easy_df[:10][['category_name', 'feature_words']]"
   ]
  },
  {
   "cell_type": "markdown",
   "metadata": {},
   "source": [
    "単語 -> インデックスのdictionaryを作成"
   ]
  },
  {
   "cell_type": "code",
   "execution_count": 13,
   "metadata": {
    "collapsed": false
   },
   "outputs": [
    {
     "data": {
      "text/plain": [
       "'辞書内の単語数: 10945'"
      ]
     },
     "execution_count": 13,
     "metadata": {},
     "output_type": "execute_result"
    }
   ],
   "source": [
    "def flatten(l):\n",
    "    return [item for sublist in l for item in sublist]\n",
    "\n",
    "word2index = {}\n",
    "for i,v in enumerate(set(flatten(easy_df.feature_words.values))):\n",
    "    word2index[v] = i\n",
    "\n",
    "num_words = len(word2index)\n",
    "\"辞書内の単語数: {}\".format(num_words)"
   ]
  },
  {
   "cell_type": "code",
   "execution_count": 14,
   "metadata": {
    "collapsed": false
   },
   "outputs": [
    {
     "data": {
      "text/plain": [
       "0    [0, 0, 0, 0, 0, 0, 0, 0, 0, 0, 0, 0, 0, 0, 0, ...\n",
       "1    [0, 0, 0, 0, 0, 0, 0, 0, 0, 0, 0, 0, 0, 0, 0, ...\n",
       "7    [0, 0, 0, 0, 0, 0, 0, 0, 0, 0, 0, 0, 0, 0, 0, ...\n",
       "Name: feature_words, dtype: object"
      ]
     },
     "execution_count": 14,
     "metadata": {},
     "output_type": "execute_result"
    }
   ],
   "source": [
    "def sparse_to_dense(sparse, length):\n",
    "    dense = np.zeros(length, dtype=np.int32)\n",
    "    for i in sparse:\n",
    "        dense[i] = 1\n",
    "    assert len(dense) == length\n",
    "    return dense\n",
    "\n",
    "def get_dense_features(feature_words):\n",
    "    global num_words, word2index\n",
    "    sparse = map(lambda x: word2index[x], feature_words)\n",
    "    return sparse_to_dense(sparse, num_words)\n",
    "\n",
    "easy_df[:3].feature_words.apply(get_dense_features)"
   ]
  },
  {
   "cell_type": "markdown",
   "metadata": {},
   "source": [
    "特徴量行列を作成"
   ]
  },
  {
   "cell_type": "code",
   "execution_count": 15,
   "metadata": {
    "collapsed": false
   },
   "outputs": [],
   "source": [
    "features = applyParallel(easy_df.feature_words, get_dense_features, asDataFrame=True)\n",
    "labels = easy_df.category_id"
   ]
  },
  {
   "cell_type": "markdown",
   "metadata": {},
   "source": [
    "## scikit-learnで予測\n",
    "\n",
    "いくつかの手法で予測。\n",
    "\n",
    "- SVM\n",
    "- Logistic Regression\n",
    "- Random Forest\n",
    "\n",
    "データがそこそこ大きいので、解析的に解くモデルだと終わりません。"
   ]
  },
  {
   "cell_type": "code",
   "execution_count": 16,
   "metadata": {
    "collapsed": false
   },
   "outputs": [],
   "source": [
    "# テンプレート\n",
    "def evaluate_model(model):\n",
    "    global features, labels\n",
    "    scores = cross_validation.cross_val_score(model, features, labels, cv=5)\n",
    "    print(\"Accuracy: %0.5f (+/- %0.5f)\" % (scores.mean(), scores.std() * 2))"
   ]
  },
  {
   "cell_type": "markdown",
   "metadata": {},
   "source": [
    "### クロスバリデーションでモデルを評価"
   ]
  },
  {
   "cell_type": "code",
   "execution_count": 17,
   "metadata": {
    "collapsed": false,
    "scrolled": false
   },
   "outputs": [
    {
     "name": "stdout",
     "output_type": "stream",
     "text": [
      "Accuracy: 0.97733 (+/- 0.00698)\n"
     ]
    }
   ],
   "source": [
    "# SVM\n",
    "evaluate_model(SGDClassifier(loss=\"hinge\", penalty='l2', n_jobs=multiprocessing.cpu_count()))"
   ]
  },
  {
   "cell_type": "code",
   "execution_count": 18,
   "metadata": {
    "collapsed": false,
    "scrolled": false
   },
   "outputs": [
    {
     "name": "stdout",
     "output_type": "stream",
     "text": [
      "Accuracy: 0.97636 (+/- 0.00769)\n"
     ]
    }
   ],
   "source": [
    "# ロジスティック回帰\n",
    "evaluate_model(SGDClassifier(loss=\"log\", penalty='l2', n_jobs=multiprocessing.cpu_count()))"
   ]
  },
  {
   "cell_type": "code",
   "execution_count": 19,
   "metadata": {
    "collapsed": false
   },
   "outputs": [
    {
     "name": "stdout",
     "output_type": "stream",
     "text": [
      "Accuracy: 0.97531 (+/- 0.00774)\n"
     ]
    }
   ],
   "source": [
    "# ランダムフォレスト\n",
    "evaluate_model(RandomForestClassifier(n_estimators=10, n_jobs=multiprocessing.cpu_count()))"
   ]
  },
  {
   "cell_type": "markdown",
   "metadata": {},
   "source": [
    "だいたい全部同じくらいの精度"
   ]
  },
  {
   "cell_type": "markdown",
   "metadata": {},
   "source": [
    "以下SVMを使用"
   ]
  },
  {
   "cell_type": "code",
   "execution_count": 20,
   "metadata": {
    "collapsed": false,
    "scrolled": true
   },
   "outputs": [
    {
     "data": {
      "text/html": [
       "<div>\n",
       "<table border=\"1\" class=\"dataframe\">\n",
       "  <thead>\n",
       "    <tr style=\"text-align: right;\">\n",
       "      <th>category_id</th>\n",
       "      <th>3</th>\n",
       "      <th>4</th>\n",
       "      <th>6</th>\n",
       "      <th>9</th>\n",
       "      <th>10</th>\n",
       "      <th>12</th>\n",
       "      <th>20</th>\n",
       "      <th>26</th>\n",
       "      <th>27</th>\n",
       "      <th>35</th>\n",
       "    </tr>\n",
       "    <tr>\n",
       "      <th>row_0</th>\n",
       "      <th></th>\n",
       "      <th></th>\n",
       "      <th></th>\n",
       "      <th></th>\n",
       "      <th></th>\n",
       "      <th></th>\n",
       "      <th></th>\n",
       "      <th></th>\n",
       "      <th></th>\n",
       "      <th></th>\n",
       "    </tr>\n",
       "  </thead>\n",
       "  <tbody>\n",
       "    <tr>\n",
       "      <th>3</th>\n",
       "      <td>265</td>\n",
       "      <td>1</td>\n",
       "      <td>0</td>\n",
       "      <td>0</td>\n",
       "      <td>3</td>\n",
       "      <td>0</td>\n",
       "      <td>0</td>\n",
       "      <td>0</td>\n",
       "      <td>0</td>\n",
       "      <td>1</td>\n",
       "    </tr>\n",
       "    <tr>\n",
       "      <th>4</th>\n",
       "      <td>0</td>\n",
       "      <td>54</td>\n",
       "      <td>1</td>\n",
       "      <td>1</td>\n",
       "      <td>1</td>\n",
       "      <td>1</td>\n",
       "      <td>0</td>\n",
       "      <td>0</td>\n",
       "      <td>0</td>\n",
       "      <td>0</td>\n",
       "    </tr>\n",
       "    <tr>\n",
       "      <th>6</th>\n",
       "      <td>0</td>\n",
       "      <td>0</td>\n",
       "      <td>198</td>\n",
       "      <td>0</td>\n",
       "      <td>2</td>\n",
       "      <td>0</td>\n",
       "      <td>0</td>\n",
       "      <td>0</td>\n",
       "      <td>0</td>\n",
       "      <td>0</td>\n",
       "    </tr>\n",
       "    <tr>\n",
       "      <th>9</th>\n",
       "      <td>0</td>\n",
       "      <td>0</td>\n",
       "      <td>0</td>\n",
       "      <td>233</td>\n",
       "      <td>5</td>\n",
       "      <td>0</td>\n",
       "      <td>0</td>\n",
       "      <td>0</td>\n",
       "      <td>0</td>\n",
       "      <td>0</td>\n",
       "    </tr>\n",
       "    <tr>\n",
       "      <th>10</th>\n",
       "      <td>3</td>\n",
       "      <td>0</td>\n",
       "      <td>2</td>\n",
       "      <td>11</td>\n",
       "      <td>1069</td>\n",
       "      <td>0</td>\n",
       "      <td>1</td>\n",
       "      <td>1</td>\n",
       "      <td>1</td>\n",
       "      <td>2</td>\n",
       "    </tr>\n",
       "    <tr>\n",
       "      <th>12</th>\n",
       "      <td>0</td>\n",
       "      <td>0</td>\n",
       "      <td>0</td>\n",
       "      <td>0</td>\n",
       "      <td>0</td>\n",
       "      <td>95</td>\n",
       "      <td>0</td>\n",
       "      <td>0</td>\n",
       "      <td>0</td>\n",
       "      <td>0</td>\n",
       "    </tr>\n",
       "    <tr>\n",
       "      <th>20</th>\n",
       "      <td>0</td>\n",
       "      <td>0</td>\n",
       "      <td>0</td>\n",
       "      <td>0</td>\n",
       "      <td>0</td>\n",
       "      <td>0</td>\n",
       "      <td>60</td>\n",
       "      <td>0</td>\n",
       "      <td>0</td>\n",
       "      <td>0</td>\n",
       "    </tr>\n",
       "    <tr>\n",
       "      <th>26</th>\n",
       "      <td>0</td>\n",
       "      <td>0</td>\n",
       "      <td>0</td>\n",
       "      <td>0</td>\n",
       "      <td>2</td>\n",
       "      <td>0</td>\n",
       "      <td>0</td>\n",
       "      <td>49</td>\n",
       "      <td>0</td>\n",
       "      <td>0</td>\n",
       "    </tr>\n",
       "    <tr>\n",
       "      <th>27</th>\n",
       "      <td>0</td>\n",
       "      <td>0</td>\n",
       "      <td>2</td>\n",
       "      <td>2</td>\n",
       "      <td>4</td>\n",
       "      <td>0</td>\n",
       "      <td>0</td>\n",
       "      <td>1</td>\n",
       "      <td>40</td>\n",
       "      <td>1</td>\n",
       "    </tr>\n",
       "    <tr>\n",
       "      <th>35</th>\n",
       "      <td>0</td>\n",
       "      <td>0</td>\n",
       "      <td>0</td>\n",
       "      <td>0</td>\n",
       "      <td>0</td>\n",
       "      <td>0</td>\n",
       "      <td>0</td>\n",
       "      <td>0</td>\n",
       "      <td>0</td>\n",
       "      <td>156</td>\n",
       "    </tr>\n",
       "  </tbody>\n",
       "</table>\n",
       "</div>"
      ],
      "text/plain": [
       "category_id   3   4    6    9     10  12  20  26  27   35\n",
       "row_0                                                    \n",
       "3            265   1    0    0     3   0   0   0   0    1\n",
       "4              0  54    1    1     1   1   0   0   0    0\n",
       "6              0   0  198    0     2   0   0   0   0    0\n",
       "9              0   0    0  233     5   0   0   0   0    0\n",
       "10             3   0    2   11  1069   0   1   1   1    2\n",
       "12             0   0    0    0     0  95   0   0   0    0\n",
       "20             0   0    0    0     0   0  60   0   0    0\n",
       "26             0   0    0    0     2   0   0  49   0    0\n",
       "27             0   0    2    2     4   0   0   1  40    1\n",
       "35             0   0    0    0     0   0   0   0   0  156"
      ]
     },
     "execution_count": 20,
     "metadata": {},
     "output_type": "execute_result"
    }
   ],
   "source": [
    "split_point = int(len(labels) * 0.8)\n",
    "train_features = features[:split_point]\n",
    "test_features = features[split_point:]\n",
    "train_labels = labels[:split_point]\n",
    "test_labels = labels[split_point:]\n",
    "\n",
    "pred = SGDClassifier(loss=\"hinge\", penalty='l2', n_jobs=multiprocessing.cpu_count()).fit(train_features, train_labels).predict(test_features)\n",
    "pd.crosstab(pred, test_labels)"
   ]
  },
  {
   "cell_type": "markdown",
   "metadata": {},
   "source": [
    "分類に失敗したSSを眺めてみる"
   ]
  },
  {
   "cell_type": "code",
   "execution_count": 21,
   "metadata": {
    "collapsed": false,
    "scrolled": true
   },
   "outputs": [
    {
     "data": {
      "text/html": [
       "<div>\n",
       "<table border=\"1\" class=\"dataframe\">\n",
       "  <thead>\n",
       "    <tr style=\"text-align: right;\">\n",
       "      <th></th>\n",
       "      <th>article_id</th>\n",
       "      <th>category_name</th>\n",
       "      <th>pred</th>\n",
       "      <th>feature_words</th>\n",
       "    </tr>\n",
       "  </thead>\n",
       "  <tbody>\n",
       "    <tr>\n",
       "      <th>15080</th>\n",
       "      <td>15716</td>\n",
       "      <td>ラブライブ！</td>\n",
       "      <td>とある魔術の禁書目録</td>\n",
       "      <td>[ことり, 講師, 人, 顔, デザイナー, 老人, 服, 少女, 道, 一つ]</td>\n",
       "    </tr>\n",
       "    <tr>\n",
       "      <th>15105</th>\n",
       "      <td>15741</td>\n",
       "      <td>モバマス</td>\n",
       "      <td>とある魔術の禁書目録</td>\n",
       "      <td>[早苗, 夏美, ゴヨウ, 幻獣, トークン, エンド, 特殊召喚, バトル, エンタープラ...</td>\n",
       "    </tr>\n",
       "    <tr>\n",
       "      <th>15458</th>\n",
       "      <td>16094</td>\n",
       "      <td>アイドルマスター</td>\n",
       "      <td>とある魔術の禁書目録</td>\n",
       "      <td>[ヤンキー, 頭, 自分, ォ, ス, ワケ, 可奈, はるるん, ー, アリーナ]</td>\n",
       "    </tr>\n",
       "    <tr>\n",
       "      <th>15629</th>\n",
       "      <td>16265</td>\n",
       "      <td>咲</td>\n",
       "      <td>モバマス</td>\n",
       "      <td>[佑子, 大星, マユ, …。, イ, 顔, 身体, 全身, 乳首, ぁっ]</td>\n",
       "    </tr>\n",
       "    <tr>\n",
       "      <th>15659</th>\n",
       "      <td>16295</td>\n",
       "      <td>アイドルマスター</td>\n",
       "      <td>モバマス</td>\n",
       "      <td>[猫, おじ, ー, 漱石, 手, アンマー, ぃに, テレビ, 部屋, 下]</td>\n",
       "    </tr>\n",
       "    <tr>\n",
       "      <th>15697</th>\n",
       "      <td>16333</td>\n",
       "      <td>モバマス</td>\n",
       "      <td>艦これ</td>\n",
       "      <td>[場所, 少女, 空間, 姿, トモダチ, 声, 机, 無機質, 音, 顔]</td>\n",
       "    </tr>\n",
       "    <tr>\n",
       "      <th>15830</th>\n",
       "      <td>16466</td>\n",
       "      <td>モバマス</td>\n",
       "      <td>咲</td>\n",
       "      <td>[愛海, 巴, わき, サラシ, くるみちゃん, くるみ, お山, ぇ, うち, ふぇぇ]</td>\n",
       "    </tr>\n",
       "    <tr>\n",
       "      <th>15871</th>\n",
       "      <td>16507</td>\n",
       "      <td>モバマス</td>\n",
       "      <td>アイドルマスター</td>\n",
       "      <td>[Ｐ, ちひろ, 文香, 晴, 真美, プロデューサー, 響, モバ, 春香, 美希]</td>\n",
       "    </tr>\n",
       "    <tr>\n",
       "      <th>15889</th>\n",
       "      <td>16525</td>\n",
       "      <td>モバマス</td>\n",
       "      <td>ラブライブ！</td>\n",
       "      <td>[ほんとう, 一言, うそ, エイプリルフール, 想い, 店, 貴女, クリ, 場所, 初の]</td>\n",
       "    </tr>\n",
       "    <tr>\n",
       "      <th>15904</th>\n",
       "      <td>16540</td>\n",
       "      <td>艦これ</td>\n",
       "      <td>モバマス</td>\n",
       "      <td>[卯月, 加古, 嘘, エイプリルフール, 古鷹, 出て, ω, 布団, はいはい, ろん]</td>\n",
       "    </tr>\n",
       "    <tr>\n",
       "      <th>15958</th>\n",
       "      <td>16594</td>\n",
       "      <td>モバマス</td>\n",
       "      <td>咲</td>\n",
       "      <td>[ミリア, ユウキ, リョータ, カズミ, チカ, メグミ, ナツミ, コウジ, P, ツバサ]</td>\n",
       "    </tr>\n",
       "    <tr>\n",
       "      <th>15996</th>\n",
       "      <td>16632</td>\n",
       "      <td>モバマス</td>\n",
       "      <td>艦これ</td>\n",
       "      <td>[初雪, 衣笠, 涼風, 霞, 満潮, 春雨, 村雨, 雷, 秋津洲, 鎮守府]</td>\n",
       "    </tr>\n",
       "    <tr>\n",
       "      <th>16102</th>\n",
       "      <td>16738</td>\n",
       "      <td>モバマス</td>\n",
       "      <td>咲</td>\n",
       "      <td>[加奈, おばあちゃん, 家, 祖父, 母, ママ, 顔, 両親, 今井, 人]</td>\n",
       "    </tr>\n",
       "    <tr>\n",
       "      <th>16108</th>\n",
       "      <td>16744</td>\n",
       "      <td>ガールズ＆パンツァー</td>\n",
       "      <td>モバマス</td>\n",
       "      <td>[杏, 桃, 柚子, 典子, 戦車道, 河嶋, カーボン, 平気, 桃ちゃん, アレ]</td>\n",
       "    </tr>\n",
       "    <tr>\n",
       "      <th>16120</th>\n",
       "      <td>16756</td>\n",
       "      <td>ラブライブ！</td>\n",
       "      <td>咲</td>\n",
       "      <td>[姫, 部屋, 笑顔, 赤, 声, 頬, 人, 気持ち, 向こう, 台詞]</td>\n",
       "    </tr>\n",
       "    <tr>\n",
       "      <th>16221</th>\n",
       "      <td>16857</td>\n",
       "      <td>俺ガイル</td>\n",
       "      <td>モバマス</td>\n",
       "      <td>[先輩, 鎖骨, ー, 体, 口, 首, ですよ, 下, 手, 目]</td>\n",
       "    </tr>\n",
       "    <tr>\n",
       "      <th>16385</th>\n",
       "      <td>17021</td>\n",
       "      <td>シュタインズ・ゲート</td>\n",
       "      <td>とある魔術の禁書目録</td>\n",
       "      <td>[紅, 栖, 莉, 岡部, 美琴, 上条, ーー, …。, 黒子, 能力]</td>\n",
       "    </tr>\n",
       "    <tr>\n",
       "      <th>16624</th>\n",
       "      <td>17260</td>\n",
       "      <td>俺ガイル</td>\n",
       "      <td>咲</td>\n",
       "      <td>[ー, ホーイ, ツィー, チェン, 春巻, 歪, 未来, チェーン, 音, ぬるま湯]</td>\n",
       "    </tr>\n",
       "    <tr>\n",
       "      <th>16634</th>\n",
       "      <td>17270</td>\n",
       "      <td>モバマス</td>\n",
       "      <td>ラブライブ！</td>\n",
       "      <td>[静香, 未来, 壁ドン, 生徒, B, 壁, 恋, らし, A, うどん]</td>\n",
       "    </tr>\n",
       "    <tr>\n",
       "      <th>16777</th>\n",
       "      <td>17413</td>\n",
       "      <td>アイドルマスター</td>\n",
       "      <td>モバマス</td>\n",
       "      <td>[茜, Ｐ, ー, 日野茜, プロデューサー, プロ, 頭, ちひろ, 事務所, アイドル]</td>\n",
       "    </tr>\n",
       "    <tr>\n",
       "      <th>16796</th>\n",
       "      <td>17432</td>\n",
       "      <td>アイドルマスター</td>\n",
       "      <td>咲</td>\n",
       "      <td>[名無し, ID, 名前, 2ch.net, ライブ, 人間, アイドル, アンドロイド, ...</td>\n",
       "    </tr>\n",
       "    <tr>\n",
       "      <th>16826</th>\n",
       "      <td>17462</td>\n",
       "      <td>アイドルマスター</td>\n",
       "      <td>モバマス</td>\n",
       "      <td>[P, 幸子, ちひろ, のあ, コホッ, 楓, 風邪, 瑞樹, ウィルス, 調子]</td>\n",
       "    </tr>\n",
       "    <tr>\n",
       "      <th>16865</th>\n",
       "      <td>17501</td>\n",
       "      <td>アイドルマスター</td>\n",
       "      <td>モバマス</td>\n",
       "      <td>[比奈, ス, 赤羽根, カミヤ, 武内, ZE, ッス, マイハーマ, 誤植, 四天王]</td>\n",
       "    </tr>\n",
       "    <tr>\n",
       "      <th>16890</th>\n",
       "      <td>17526</td>\n",
       "      <td>ゆるゆり</td>\n",
       "      <td>モバマス</td>\n",
       "      <td>[名前, ナイアガラ, 杉浦綾乃, &gt;&gt;1, パイプ, ----, 魂, 目, 絵, 世界]</td>\n",
       "    </tr>\n",
       "    <tr>\n",
       "      <th>17012</th>\n",
       "      <td>17648</td>\n",
       "      <td>艦これ</td>\n",
       "      <td>モバマス</td>\n",
       "      <td>[心, 感覚, 想い, 苦しみ, 姿, 傷み, 胸, 身, 嬉し涙, 嗤]</td>\n",
       "    </tr>\n",
       "    <tr>\n",
       "      <th>17053</th>\n",
       "      <td>17689</td>\n",
       "      <td>アイドルマスター</td>\n",
       "      <td>モバマス</td>\n",
       "      <td>[妹, 美嘉, ネネ, プロデューサー, 莉, 嘉, 手, お姉ちゃん, 言葉, 顔]</td>\n",
       "    </tr>\n",
       "    <tr>\n",
       "      <th>17134</th>\n",
       "      <td>17770</td>\n",
       "      <td>ガールズ＆パンツァー</td>\n",
       "      <td>艦これ</td>\n",
       "      <td>[提督, 叢雲, 川内, 上官, 間宮, 鎮守府, コンマ, 曙, 気, …。]</td>\n",
       "    </tr>\n",
       "    <tr>\n",
       "      <th>17160</th>\n",
       "      <td>17796</td>\n",
       "      <td>モバマス</td>\n",
       "      <td>俺ガイル</td>\n",
       "      <td>[七海, 釣り, 浅利, 声, 顔, 目, クラスメイト, 場所, 視線, ー]</td>\n",
       "    </tr>\n",
       "    <tr>\n",
       "      <th>17208</th>\n",
       "      <td>17844</td>\n",
       "      <td>アイドルマスター</td>\n",
       "      <td>モバマス</td>\n",
       "      <td>[律子, P, プロデューサー, ﾅﾃﾞﾅﾃﾞ, ペン, 書類, Z, ですよ, z, 先]</td>\n",
       "    </tr>\n",
       "    <tr>\n",
       "      <th>17218</th>\n",
       "      <td>17854</td>\n",
       "      <td>ラブライブ！</td>\n",
       "      <td>咲</td>\n",
       "      <td>[子, 人, ウチ, エリ, 自分, 友達, 神田, …。, なんや, 目]</td>\n",
       "    </tr>\n",
       "    <tr>\n",
       "      <th>17240</th>\n",
       "      <td>17876</td>\n",
       "      <td>モバマス</td>\n",
       "      <td>俺ガイル</td>\n",
       "      <td>[高垣, 顔, 屋上, 藻場, USJ, 欲, アレ, 目, 人, 雑誌]</td>\n",
       "    </tr>\n",
       "    <tr>\n",
       "      <th>17265</th>\n",
       "      <td>17901</td>\n",
       "      <td>アイドルマスター</td>\n",
       "      <td>モバマス</td>\n",
       "      <td>[美嘉, りょう, Ｐ, 莉, 嘉, 涼, アタシ, 姉さん, 子, ー]</td>\n",
       "    </tr>\n",
       "    <tr>\n",
       "      <th>17289</th>\n",
       "      <td>17925</td>\n",
       "      <td>アイドルマスター</td>\n",
       "      <td>モバマス</td>\n",
       "      <td>[女, 男, 友, バスケ, 気, お見舞い, 人, 嘘, ごめんね, ー]</td>\n",
       "    </tr>\n",
       "    <tr>\n",
       "      <th>17406</th>\n",
       "      <td>18042</td>\n",
       "      <td>とある魔術の禁書目録</td>\n",
       "      <td>艦これ</td>\n",
       "      <td>[上条当麻, 自分, 御坂美琴, 少女, 言葉, 涙, ヒーロー, 体, アックア, 神裂火織]</td>\n",
       "    </tr>\n",
       "    <tr>\n",
       "      <th>17813</th>\n",
       "      <td>18532</td>\n",
       "      <td>モバマス</td>\n",
       "      <td>アイドルマスター</td>\n",
       "      <td>[舞, Ｐ, プロデューサー, 少女, 胸, 手, 自分, 娘, 頬, 顔]</td>\n",
       "    </tr>\n",
       "    <tr>\n",
       "      <th>17849</th>\n",
       "      <td>18568</td>\n",
       "      <td>ラブライブ！</td>\n",
       "      <td>モバマス</td>\n",
       "      <td>[矢澤にこ, 友達, 西木野真姫, アイドル, ホント, 自分, ママ, 荷物, パパ, この街]</td>\n",
       "    </tr>\n",
       "    <tr>\n",
       "      <th>17989</th>\n",
       "      <td>18708</td>\n",
       "      <td>アイドルマスター</td>\n",
       "      <td>モバマス</td>\n",
       "      <td>[女, 母親, 手, 自分, ベンチ, 匂い, 声, 子ども, 言葉, 未来]</td>\n",
       "    </tr>\n",
       "    <tr>\n",
       "      <th>18020</th>\n",
       "      <td>18739</td>\n",
       "      <td>モバマス</td>\n",
       "      <td>アイドルマスター</td>\n",
       "      <td>[Ｐ, 星, 言葉, 空, 人, おじいちゃん, 声, 岡山, 目, 手]</td>\n",
       "    </tr>\n",
       "    <tr>\n",
       "      <th>18025</th>\n",
       "      <td>18744</td>\n",
       "      <td>モバマス</td>\n",
       "      <td>艦これ</td>\n",
       "      <td>[茜, クラスメイト, A, K, ファン, 生徒, N, H, 人, E]</td>\n",
       "    </tr>\n",
       "    <tr>\n",
       "      <th>18287</th>\n",
       "      <td>19006</td>\n",
       "      <td>ガールズ＆パンツァー</td>\n",
       "      <td>咲</td>\n",
       "      <td>[パワポケ, 矢部明雄, 西住みほ, 佐々木あけび, 磯部, 典子, 角谷杏, 戦車道, ー...</td>\n",
       "    </tr>\n",
       "    <tr>\n",
       "      <th>18299</th>\n",
       "      <td>19018</td>\n",
       "      <td>アイドルマスター</td>\n",
       "      <td>咲</td>\n",
       "      <td>[咲, 水嶋咲, アスラン, 咲ちゃん, アイドル, ＣａｆｅＰａｒａｄｅ, プロデューサー...</td>\n",
       "    </tr>\n",
       "    <tr>\n",
       "      <th>18303</th>\n",
       "      <td>19022</td>\n",
       "      <td>モバマス</td>\n",
       "      <td>アイドルマスター</td>\n",
       "      <td>[千早, 春香, 響, 雪歩, 牛丼, 店, 餃子, 肉, アイドル, 王将]</td>\n",
       "    </tr>\n",
       "    <tr>\n",
       "      <th>18378</th>\n",
       "      <td>19097</td>\n",
       "      <td>モバマス</td>\n",
       "      <td>アイドルマスター</td>\n",
       "      <td>[幸子, 真, 雪歩, 事務所, 女の子, カワイイ, ﾌﾌｰﾝ, では, ﾀﾞｯｼｭ, 千早]</td>\n",
       "    </tr>\n",
       "    <tr>\n",
       "      <th>18438</th>\n",
       "      <td>19157</td>\n",
       "      <td>モバマス</td>\n",
       "      <td>咲</td>\n",
       "      <td>[ー, そなた, 生き物, あな, ゅ, けつ, 粘液, 対象, とー, 人間]</td>\n",
       "    </tr>\n",
       "    <tr>\n",
       "      <th>18494</th>\n",
       "      <td>19273</td>\n",
       "      <td>ラブライブ！</td>\n",
       "      <td>モバマス</td>\n",
       "      <td>[鞠, 莉, 千歌, 子, ハーフ, メタル, マリー, 思い, アイドル, ー]</td>\n",
       "    </tr>\n",
       "    <tr>\n",
       "      <th>18495</th>\n",
       "      <td>19274</td>\n",
       "      <td>ガールズ＆パンツァー</td>\n",
       "      <td>モバマス</td>\n",
       "      <td>[息女, 息子, 夫, 子ども, 名前, 恋, 戦車, 目, 家, 女の子]</td>\n",
       "    </tr>\n",
       "    <tr>\n",
       "      <th>18529</th>\n",
       "      <td>19308</td>\n",
       "      <td>アイドルマスター</td>\n",
       "      <td>モバマス</td>\n",
       "      <td>[凛, 柚, 卯月, 未央, ー, サン, ゅ, ゆず, ゆ, しぶり]</td>\n",
       "    </tr>\n",
       "    <tr>\n",
       "      <th>18596</th>\n",
       "      <td>19375</td>\n",
       "      <td>艦これ</td>\n",
       "      <td>モバマス</td>\n",
       "      <td>[朝潮, 荒潮, ピーナッツ, クリーム, トースト, 猫, イチゴ, 運命, 世界, 花びら]</td>\n",
       "    </tr>\n",
       "    <tr>\n",
       "      <th>18620</th>\n",
       "      <td>19399</td>\n",
       "      <td>アイドルマスター</td>\n",
       "      <td>モバマス</td>\n",
       "      <td>[高槻, アイドル, 夢, ｶｧｰ, 野球, 答え, 理由, 高槻やよい, なっちゃった, ...</td>\n",
       "    </tr>\n",
       "  </tbody>\n",
       "</table>\n",
       "</div>"
      ],
      "text/plain": [
       "       article_id category_name        pred  \\\n",
       "15080       15716        ラブライブ！  とある魔術の禁書目録   \n",
       "15105       15741          モバマス  とある魔術の禁書目録   \n",
       "15458       16094      アイドルマスター  とある魔術の禁書目録   \n",
       "15629       16265             咲        モバマス   \n",
       "15659       16295      アイドルマスター        モバマス   \n",
       "15697       16333          モバマス         艦これ   \n",
       "15830       16466          モバマス           咲   \n",
       "15871       16507          モバマス    アイドルマスター   \n",
       "15889       16525          モバマス      ラブライブ！   \n",
       "15904       16540           艦これ        モバマス   \n",
       "15958       16594          モバマス           咲   \n",
       "15996       16632          モバマス         艦これ   \n",
       "16102       16738          モバマス           咲   \n",
       "16108       16744    ガールズ＆パンツァー        モバマス   \n",
       "16120       16756        ラブライブ！           咲   \n",
       "16221       16857          俺ガイル        モバマス   \n",
       "16385       17021    シュタインズ・ゲート  とある魔術の禁書目録   \n",
       "16624       17260          俺ガイル           咲   \n",
       "16634       17270          モバマス      ラブライブ！   \n",
       "16777       17413      アイドルマスター        モバマス   \n",
       "16796       17432      アイドルマスター           咲   \n",
       "16826       17462      アイドルマスター        モバマス   \n",
       "16865       17501      アイドルマスター        モバマス   \n",
       "16890       17526          ゆるゆり        モバマス   \n",
       "17012       17648           艦これ        モバマス   \n",
       "17053       17689      アイドルマスター        モバマス   \n",
       "17134       17770    ガールズ＆パンツァー         艦これ   \n",
       "17160       17796          モバマス        俺ガイル   \n",
       "17208       17844      アイドルマスター        モバマス   \n",
       "17218       17854        ラブライブ！           咲   \n",
       "17240       17876          モバマス        俺ガイル   \n",
       "17265       17901      アイドルマスター        モバマス   \n",
       "17289       17925      アイドルマスター        モバマス   \n",
       "17406       18042    とある魔術の禁書目録         艦これ   \n",
       "17813       18532          モバマス    アイドルマスター   \n",
       "17849       18568        ラブライブ！        モバマス   \n",
       "17989       18708      アイドルマスター        モバマス   \n",
       "18020       18739          モバマス    アイドルマスター   \n",
       "18025       18744          モバマス         艦これ   \n",
       "18287       19006    ガールズ＆パンツァー           咲   \n",
       "18299       19018      アイドルマスター           咲   \n",
       "18303       19022          モバマス    アイドルマスター   \n",
       "18378       19097          モバマス    アイドルマスター   \n",
       "18438       19157          モバマス           咲   \n",
       "18494       19273        ラブライブ！        モバマス   \n",
       "18495       19274    ガールズ＆パンツァー        モバマス   \n",
       "18529       19308      アイドルマスター        モバマス   \n",
       "18596       19375           艦これ        モバマス   \n",
       "18620       19399      アイドルマスター        モバマス   \n",
       "\n",
       "                                           feature_words  \n",
       "15080           [ことり, 講師, 人, 顔, デザイナー, 老人, 服, 少女, 道, 一つ]  \n",
       "15105  [早苗, 夏美, ゴヨウ, 幻獣, トークン, エンド, 特殊召喚, バトル, エンタープラ...  \n",
       "15458         [ヤンキー, 頭, 自分, ォ, ス, ワケ, 可奈, はるるん, ー, アリーナ]  \n",
       "15629             [佑子, 大星, マユ, …。, イ, 顔, 身体, 全身, 乳首, ぁっ]  \n",
       "15659            [猫, おじ, ー, 漱石, 手, アンマー, ぃに, テレビ, 部屋, 下]  \n",
       "15697             [場所, 少女, 空間, 姿, トモダチ, 声, 机, 無機質, 音, 顔]  \n",
       "15830      [愛海, 巴, わき, サラシ, くるみちゃん, くるみ, お山, ぇ, うち, ふぇぇ]  \n",
       "15871        [Ｐ, ちひろ, 文香, 晴, 真美, プロデューサー, 響, モバ, 春香, 美希]  \n",
       "15889    [ほんとう, 一言, うそ, エイプリルフール, 想い, 店, 貴女, クリ, 場所, 初の]  \n",
       "15904     [卯月, 加古, 嘘, エイプリルフール, 古鷹, 出て, ω, 布団, はいはい, ろん]  \n",
       "15958   [ミリア, ユウキ, リョータ, カズミ, チカ, メグミ, ナツミ, コウジ, P, ツバサ]  \n",
       "15996           [初雪, 衣笠, 涼風, 霞, 満潮, 春雨, 村雨, 雷, 秋津洲, 鎮守府]  \n",
       "16102           [加奈, おばあちゃん, 家, 祖父, 母, ママ, 顔, 両親, 今井, 人]  \n",
       "16108        [杏, 桃, 柚子, 典子, 戦車道, 河嶋, カーボン, 平気, 桃ちゃん, アレ]  \n",
       "16120              [姫, 部屋, 笑顔, 赤, 声, 頬, 人, 気持ち, 向こう, 台詞]  \n",
       "16221                 [先輩, 鎖骨, ー, 体, 口, 首, ですよ, 下, 手, 目]  \n",
       "16385              [紅, 栖, 莉, 岡部, 美琴, 上条, ーー, …。, 黒子, 能力]  \n",
       "16624       [ー, ホーイ, ツィー, チェン, 春巻, 歪, 未来, チェーン, 音, ぬるま湯]  \n",
       "16634             [静香, 未来, 壁ドン, 生徒, B, 壁, 恋, らし, A, うどん]  \n",
       "16777     [茜, Ｐ, ー, 日野茜, プロデューサー, プロ, 頭, ちひろ, 事務所, アイドル]  \n",
       "16796  [名無し, ID, 名前, 2ch.net, ライブ, 人間, アイドル, アンドロイド, ...  \n",
       "16826         [P, 幸子, ちひろ, のあ, コホッ, 楓, 風邪, 瑞樹, ウィルス, 調子]  \n",
       "16865      [比奈, ス, 赤羽根, カミヤ, 武内, ZE, ッス, マイハーマ, 誤植, 四天王]  \n",
       "16890     [名前, ナイアガラ, 杉浦綾乃, >>1, パイプ, ----, 魂, 目, 絵, 世界]  \n",
       "17012              [心, 感覚, 想い, 苦しみ, 姿, 傷み, 胸, 身, 嬉し涙, 嗤]  \n",
       "17053        [妹, 美嘉, ネネ, プロデューサー, 莉, 嘉, 手, お姉ちゃん, 言葉, 顔]  \n",
       "17134           [提督, 叢雲, 川内, 上官, 間宮, 鎮守府, コンマ, 曙, 気, …。]  \n",
       "17160           [七海, 釣り, 浅利, 声, 顔, 目, クラスメイト, 場所, 視線, ー]  \n",
       "17208     [律子, P, プロデューサー, ﾅﾃﾞﾅﾃﾞ, ペン, 書類, Z, ですよ, z, 先]  \n",
       "17218             [子, 人, ウチ, エリ, 自分, 友達, 神田, …。, なんや, 目]  \n",
       "17240              [高垣, 顔, 屋上, 藻場, USJ, 欲, アレ, 目, 人, 雑誌]  \n",
       "17265              [美嘉, りょう, Ｐ, 莉, 嘉, 涼, アタシ, 姉さん, 子, ー]  \n",
       "17289             [女, 男, 友, バスケ, 気, お見舞い, 人, 嘘, ごめんね, ー]  \n",
       "17406   [上条当麻, 自分, 御坂美琴, 少女, 言葉, 涙, ヒーロー, 体, アックア, 神裂火織]  \n",
       "17813             [舞, Ｐ, プロデューサー, 少女, 胸, 手, 自分, 娘, 頬, 顔]  \n",
       "17849  [矢澤にこ, 友達, 西木野真姫, アイドル, ホント, 自分, ママ, 荷物, パパ, この街]  \n",
       "17989            [女, 母親, 手, 自分, ベンチ, 匂い, 声, 子ども, 言葉, 未来]  \n",
       "18020              [Ｐ, 星, 言葉, 空, 人, おじいちゃん, 声, 岡山, 目, 手]  \n",
       "18025             [茜, クラスメイト, A, K, ファン, 生徒, N, H, 人, E]  \n",
       "18287  [パワポケ, 矢部明雄, 西住みほ, 佐々木あけび, 磯部, 典子, 角谷杏, 戦車道, ー...  \n",
       "18299  [咲, 水嶋咲, アスラン, 咲ちゃん, アイドル, ＣａｆｅＰａｒａｄｅ, プロデューサー...  \n",
       "18303            [千早, 春香, 響, 雪歩, 牛丼, 店, 餃子, 肉, アイドル, 王将]  \n",
       "18378   [幸子, 真, 雪歩, 事務所, 女の子, カワイイ, ﾌﾌｰﾝ, では, ﾀﾞｯｼｭ, 千早]  \n",
       "18438           [ー, そなた, 生き物, あな, ゅ, けつ, 粘液, 対象, とー, 人間]  \n",
       "18494          [鞠, 莉, 千歌, 子, ハーフ, メタル, マリー, 思い, アイドル, ー]  \n",
       "18495             [息女, 息子, 夫, 子ども, 名前, 恋, 戦車, 目, 家, 女の子]  \n",
       "18529               [凛, 柚, 卯月, 未央, ー, サン, ゅ, ゆず, ゆ, しぶり]  \n",
       "18596   [朝潮, 荒潮, ピーナッツ, クリーム, トースト, 猫, イチゴ, 運命, 世界, 花びら]  \n",
       "18620  [高槻, アイドル, 夢, ｶｧｰ, 野球, 答え, 理由, 高槻やよい, なっちゃった, ...  "
      ]
     },
     "execution_count": 21,
     "metadata": {},
     "output_type": "execute_result"
    }
   ],
   "source": [
    "test_df = easy_df.ix[test_labels.index]\n",
    "test_df['pred'] = category_df.category_name[pred].values\n",
    "\n",
    "tmp = test_labels != pred\n",
    "test_df.ix[tmp[tmp == True].index][['article_id', 'category_name', 'pred', 'feature_words']]"
   ]
  },
  {
   "cell_type": "markdown",
   "metadata": {},
   "source": [
    "## 考察"
   ]
  },
  {
   "cell_type": "markdown",
   "metadata": {},
   "source": [
    "分類に失敗したものには、以下のパターンがあるようだ。（番号はarticle_id）\n",
    "\n",
    "1. そもそも正解ラベルが間違っている（だいたいアイマス <-> モバマス）\n",
    "  - 16632\n",
    "  - 17270\n",
    "  - 17413\n",
    "  - 17462\n",
    "  - 17689\n",
    "  - 17770\n",
    "  - 17901\n",
    "  - 17925\n",
    "  - 19022\n",
    "  - 19308\n",
    "2. 正解が曖昧（複数作品のクロスものなど）\n",
    "  - 16594\n",
    "  - 17501\n",
    "  - 18688\n",
    "  - 19097\n",
    "3. 名前が似ているキャラクター\n",
    "  - 16540\n",
    "  - 17450\n",
    "  - 19018\n",
    "4. 台本形式じゃないため、名前がうまく取得できなかった\n",
    "  - 15716\n",
    "  - 16142\n",
    "  - 16265\n",
    "  - 16295\n",
    "  - 16525\n",
    "  - 17648\n",
    "  - 18708"
   ]
  },
  {
   "cell_type": "markdown",
   "metadata": {},
   "source": [
    "#### 思ったこと\n",
    "\n",
    "- 正解ラベル間違いすぎぃ！\n",
    "- 3,4の理由のものは頑張って正しく分類できるようになりたい\n",
    "- 予想どおり台本形式じゃないSSは分類しにくい"
   ]
  },
  {
   "cell_type": "markdown",
   "metadata": {},
   "source": [
    "## まとめ\n",
    "\n",
    "- だいたい97.5%くらいの正答率で分類できたよ！（人の方が精度は上）\n",
    "- 正解ラベルが正しければ、99%くらいの精度かな？\n",
    "- 特徴量は頻出する名詞（キャラクターの名前）を利用\n",
    "- 台本形式じゃないSSはうまく分類できない\n",
    "- ニューラルネットとか使おうかと思ってたけど、そこまでは必要なさそう"
   ]
  },
  {
   "cell_type": "markdown",
   "metadata": {},
   "source": [
    "## これから\n",
    "\n",
    "- 特徴量の作り方次第でもうちょっと精度あげれそう\n",
    "- TD-IDFあたりの考え方を使うべきか\n",
    "- 本番サービスにも組み込むかも...？"
   ]
  }
 ],
 "metadata": {
  "kernelspec": {
   "display_name": "Python 3",
   "language": "python",
   "name": "python3"
  },
  "language_info": {
   "codemirror_mode": {
    "name": "ipython",
    "version": 3
   },
   "file_extension": ".py",
   "mimetype": "text/x-python",
   "name": "python",
   "nbconvert_exporter": "python",
   "pygments_lexer": "ipython3",
   "version": "3.5.1"
  }
 },
 "nbformat": 4,
 "nbformat_minor": 0
}
